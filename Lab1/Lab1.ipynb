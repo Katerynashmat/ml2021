{
  "nbformat": 4,
  "nbformat_minor": 2,
  "metadata": {
    "colab": {
      "name": "Lab1_Princess_Katyushka.ipynb",
      "provenance": [],
      "collapsed_sections": []
    },
    "kernelspec": {
      "name": "python3",
      "display_name": "Python 3.8.8 64-bit ('base': conda)"
    },
    "language_info": {
      "name": "python",
      "version": "3.8.8",
      "mimetype": "text/x-python",
      "codemirror_mode": {
        "name": "ipython",
        "version": 3
      },
      "pygments_lexer": "ipython3",
      "nbconvert_exporter": "python",
      "file_extension": ".py"
    },
    "interpreter": {
      "hash": "2f54ef1b54d06a5d413a2f508861b71cbaa37192d6efec15c99abb9399941cd8"
    }
  },
  "cells": [
    {
      "cell_type": "markdown",
      "source": [
        "# Лабораторна робота №1\r\n",
        "### студентки групи МІТ-31\r\n",
        "### Шмат Катерини Сергіївни"
      ],
      "metadata": {}
    },
    {
      "cell_type": "markdown",
      "source": [
        "task1 - NumPy (створити набір даних (розмір за власним рішенням), провести CRUD операції над даними (скаляр, вектор, матриця)). Використати arange, random."
      ],
      "metadata": {
        "id": "46HiB8p8EK_U"
      }
    },
    {
      "cell_type": "code",
      "execution_count": 8,
      "source": [
        "import numpy as np\r\n",
        "\r\n",
        "x1 = np.array([1, 2, 3])\r\n",
        "print(x1)\r\n",
        "\r\n",
        "x2 = np.arange(0, 21, 5)\r\n",
        "x3 = np.append(x1, x2)\r\n",
        "print(x3)"
      ],
      "outputs": [
        {
          "output_type": "stream",
          "name": "stdout",
          "text": [
            "[1 2 3]\n",
            "[ 1  2  3  0  5 10 15 20]\n"
          ]
        }
      ],
      "metadata": {
        "colab": {
          "base_uri": "https://localhost:8080/"
        },
        "id": "-p-iLM3NBdqJ",
        "outputId": "9c240537-9146-469e-92b3-13562e84aa0c"
      }
    },
    {
      "cell_type": "code",
      "execution_count": 9,
      "source": [
        "eye = np.eye(3)\r\n",
        "print(eye)\r\n",
        "eye = np.delete(eye, 2, 0)\r\n",
        "print(eye)"
      ],
      "outputs": [
        {
          "output_type": "stream",
          "name": "stdout",
          "text": [
            "[[1. 0. 0.]\n",
            " [0. 1. 0.]\n",
            " [0. 0. 1.]]\n",
            "[[1. 0. 0.]\n",
            " [0. 1. 0.]]\n"
          ]
        }
      ],
      "metadata": {
        "colab": {
          "base_uri": "https://localhost:8080/"
        },
        "id": "7sKutTK2XqrN",
        "outputId": "d4844114-9941-4dd6-e9bc-66f795c97490"
      }
    },
    {
      "cell_type": "code",
      "execution_count": 10,
      "source": [
        "new_rand_row = np.random.randint(0, 1, 3)\r\n",
        "eye = np.vstack([eye, new_rand_row])\r\n",
        "print(eye)"
      ],
      "outputs": [
        {
          "output_type": "stream",
          "name": "stdout",
          "text": [
            "[[1. 0. 0.]\n",
            " [0. 1. 0.]\n",
            " [0. 0. 0.]]\n"
          ]
        }
      ],
      "metadata": {
        "colab": {
          "base_uri": "https://localhost:8080/"
        },
        "id": "rJoIEQ6WXuBl",
        "outputId": "6a860cd7-b47d-496f-f25e-092e062731b9"
      }
    },
    {
      "cell_type": "markdown",
      "source": [
        "task2 - Pandas (створити dataframe різними способами, провести маніпуляції з даними (head, describe, iloc, loc ...))\n"
      ],
      "metadata": {
        "id": "CoIsoy-_YiHs"
      }
    },
    {
      "cell_type": "code",
      "execution_count": 11,
      "source": [
        "import pandas as pd\r\n",
        "\r\n",
        "df1 = pd.read_csv('data.csv')\r\n",
        "print(df1.head(3))\r\n"
      ],
      "outputs": [
        {
          "output_type": "stream",
          "name": "stdout",
          "text": [
            "   x  x.1       Name Type 1  Type 2  Total  HP  Attack  Defense  Sp. Atk  \\\n",
            "0  0    1  Bulbasaur  Grass  Poison    318  45      49       49       65   \n",
            "1  1    2    Ivysaur  Grass  Poison    405  60      62       63       80   \n",
            "2  2    3   Venusaur  Grass  Poison    525  80      82       83      100   \n",
            "\n",
            "   Sp. Def  Speed  Generation  Legendary  Unnamed: 14  \n",
            "0       65     45           1      False          NaN  \n",
            "1       80     60           1      False          NaN  \n",
            "2      100     80           1      False          NaN  \n"
          ]
        }
      ],
      "metadata": {
        "colab": {
          "base_uri": "https://localhost:8080/"
        },
        "id": "kQFW6fHUYnhY",
        "outputId": "03dc78d6-f615-446b-9159-b0d69f4698a9"
      }
    },
    {
      "cell_type": "code",
      "execution_count": 13,
      "source": [
        "df2 = pd.DataFrame(np.random.randint(0, 10, (5, 5)), columns=[\"c1\", \"c2\", \"c3\", \"c3\", \"c5\"])\r\n",
        "print(df2)\r\n",
        "print(df2.describe(include='all'))"
      ],
      "outputs": [
        {
          "output_type": "stream",
          "name": "stdout",
          "text": [
            "   c1  c2  c3  c3  c5\n",
            "0   3   9   5   8   7\n",
            "1   4   5   7   3   6\n",
            "2   2   1   4   1   5\n",
            "3   5   1   2   2   9\n",
            "4   9   6   3   0   3\n",
            "             c1        c2        c3        c3        c5\n",
            "count  5.000000  5.000000  5.000000  5.000000  5.000000\n",
            "mean   4.600000  4.400000  4.200000  2.800000  6.000000\n",
            "std    2.701851  3.435113  1.923538  3.114482  2.236068\n",
            "min    2.000000  1.000000  2.000000  0.000000  3.000000\n",
            "25%    3.000000  1.000000  3.000000  1.000000  5.000000\n",
            "50%    4.000000  5.000000  4.000000  2.000000  6.000000\n",
            "75%    5.000000  6.000000  5.000000  3.000000  7.000000\n",
            "max    9.000000  9.000000  7.000000  8.000000  9.000000\n"
          ]
        }
      ],
      "metadata": {
        "colab": {
          "base_uri": "https://localhost:8080/"
        },
        "id": "VEvnL-yQinci",
        "outputId": "150a5cdf-e478-41fb-faa6-69d661b25020"
      }
    },
    {
      "cell_type": "code",
      "execution_count": 14,
      "source": [
        "d = [{'a': 1, 'b': 2, 'c': 3, 'd': 4},\r\n",
        "     {'a': 100, 'b': 200, 'c': 300, 'd': 400},\r\n",
        "     {'a': 1000, 'b': 2000, 'c': 3000, 'd': 4000}]\r\n",
        "df3 = pd.DataFrame(d, index=[\"i1\", \"i2\", \"i3\"])\r\n",
        "print(df3)\r\n",
        "print()\r\n",
        "print(df3.iloc[[True, False, True]])\r\n",
        "print()\r\n",
        "print(df3.iloc[[0,2]])\r\n",
        "print()\r\n",
        "print(df3.loc[[\"i3\"]])"
      ],
      "outputs": [
        {
          "output_type": "stream",
          "name": "stdout",
          "text": [
            "       a     b     c     d\n",
            "i1     1     2     3     4\n",
            "i2   100   200   300   400\n",
            "i3  1000  2000  3000  4000\n",
            "\n",
            "       a     b     c     d\n",
            "i1     1     2     3     4\n",
            "i3  1000  2000  3000  4000\n",
            "\n",
            "       a     b     c     d\n",
            "i1     1     2     3     4\n",
            "i3  1000  2000  3000  4000\n",
            "\n",
            "       a     b     c     d\n",
            "i3  1000  2000  3000  4000\n"
          ]
        }
      ],
      "metadata": {
        "colab": {
          "base_uri": "https://localhost:8080/"
        },
        "id": "kGq1aE9Dio4H",
        "outputId": "c05becb5-4781-4f75-839e-ab8df50677ed"
      }
    },
    {
      "cell_type": "markdown",
      "source": [
        "task3 - Matplotlib (створити набір даних лінійної функції з урахуванням помилок вимірювань, побудувати графік функції та згенерованих даних, обчислити похибку з використанням метрик MAE, MSE). Записати отримані результати у csv файл (формат: X,Y, Y_hat, mAE, mSE)\n"
      ],
      "metadata": {
        "id": "1UF40qv3V6EK"
      }
    },
    {
      "cell_type": "code",
      "execution_count": 15,
      "source": [
        "import matplotlib.pyplot as plt\r\n",
        "import numpy as np\r\n",
        "import sklearn.metrics as metrics\r\n",
        "import pandas as pd\r\n",
        "\r\n",
        "x = np.arange(0, 6, 0.5)\r\n",
        "y1 = x * 1.5\r\n",
        "\r\n",
        "adder = np.random.random(len(x)) * 1.4 - 0.7\r\n",
        "y2 = y1 + adder\r\n",
        "\r\n",
        "plt.figure()\r\n",
        "plt.grid()\r\n",
        "plt.xticks(x)\r\n",
        "plt.yticks(range(int(x[-1] * 1.5 + 1)))\r\n",
        "plt.xlabel('X Axis')\r\n",
        "plt.ylabel('Y Axis')\r\n",
        "\r\n",
        "plt.plot(x, y1, \"r--\", label=\"teoretic\")\r\n",
        "plt.plot(x, y2, \"b\", label=\"result\")\r\n",
        "\r\n",
        "plt.legend()\r\n",
        "plt.show()\r\n"
      ],
      "outputs": [
        {
          "output_type": "display_data",
          "data": {
            "image/png": "[encoded data removed]",
            "text/plain": [
              "<Figure size 432x288 with 1 Axes>"
            ]
          },
          "metadata": {
            "needs_background": "light"
          }
        }
      ],
      "metadata": {
        "id": "-kEhe1vfWiur",
        "colab": {
          "base_uri": "https://localhost:8080/",
          "height": 279
        },
        "outputId": "f969b9dd-99b5-426b-c596-f03c2fec3791"
      }
    },
    {
      "cell_type": "code",
      "execution_count": 6,
      "source": [
        "mae = metrics.mean_absolute_error(y2, y1)\r\n",
        "mse = metrics.mean_squared_error(y2, y1)\r\n",
        "print(mae)\r\n",
        "print(mse)\r\n"
      ],
      "outputs": [
        {
          "output_type": "stream",
          "name": "stdout",
          "text": [
            "0.234004909686908\n",
            "0.0925607164388781\n"
          ]
        }
      ],
      "metadata": {
        "colab": {
          "base_uri": "https://localhost:8080/"
        },
        "id": "Mmcvekr1HYG0",
        "outputId": "cd26ba1f-bb54-4f30-fdca-e7f845429cd8"
      }
    },
    {
      "cell_type": "code",
      "execution_count": 7,
      "source": [
        "df = pd.DataFrame(np.array([x, y2, y1]).swapaxes(0,1), columns=['X', 'Y', 'Y_hat'])\r\n",
        "print(df)\r\n",
        "with open('output.csv', 'w') as f:\r\n",
        "    f.write(df.to_csv(index=False))\r\n"
      ],
      "outputs": [
        {
          "output_type": "stream",
          "name": "stdout",
          "text": [
            "      X         Y  Y_hat\n",
            "0   0.0 -0.162991   0.00\n",
            "1   0.5  0.674266   0.75\n",
            "2   1.0  1.354168   1.50\n",
            "3   1.5  2.576611   2.25\n",
            "4   2.0  3.006929   3.00\n",
            "5   2.5  3.175893   3.75\n",
            "6   3.0  4.432040   4.50\n",
            "7   3.5  4.945042   5.25\n",
            "8   4.0  6.121566   6.00\n",
            "9   4.5  6.084441   6.75\n",
            "10  5.0  7.710859   7.50\n",
            "11  5.5  8.105048   8.25\n"
          ]
        }
      ],
      "metadata": {
        "colab": {
          "base_uri": "https://localhost:8080/"
        },
        "id": "rUaDStfGHbZS",
        "outputId": "e1f50961-346e-4bde-88e1-fe0572a3b33c"
      }
    }
  ]
}