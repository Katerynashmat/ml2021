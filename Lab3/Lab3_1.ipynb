{
 "cells": [
  {
   "cell_type": "markdown",
   "source": [
    "<span style=\"color: rgba(55,227,27,1); font-size: 30px;\">Лабораторна робота №3</span><br>\r\n",
    "<span style=\"color: rgba(55,227,27,1); font-size: 24px;\">студентки групи МІТ-31</span><br>\r\n",
    "<span style=\"color: rgba(55,227,27,1); font-size: 24px;\">Шмат Катерини Сергіївни</span><br>\r\n",
    "<span style=\"color: rgba(55,227,27,1); font-size: 26px;\">Частина перша</span>"
   ],
   "metadata": {}
  },
  {
   "cell_type": "code",
   "execution_count": 1,
   "source": [
    "import pandas as pd\r\n",
    "import numpy as np\r\n",
    "import matplotlib.pyplot as plt\r\n",
    "import seaborn as sns\r\n",
    "from sklearn.datasets import make_classification"
   ],
   "outputs": [],
   "metadata": {}
  },
  {
   "cell_type": "code",
   "execution_count": 11,
   "source": [
    "X, y = make_classification(n_samples = 1024 , n_features = 7, class_sep=0.98, random_state = None )"
   ],
   "outputs": [],
   "metadata": {}
  },
  {
   "cell_type": "code",
   "execution_count": 12,
   "source": [
    "df = pd.DataFrame(X, y, columns=['total_bill', 'tip', 'sex', 'smoker', 'day', 'time', 'size'])\r\n",
    "df.head()"
   ],
   "outputs": [
    {
     "output_type": "execute_result",
     "data": {
      "text/html": [
       "<div>\n",
       "<style scoped>\n",
       "    .dataframe tbody tr th:only-of-type {\n",
       "        vertical-align: middle;\n",
       "    }\n",
       "\n",
       "    .dataframe tbody tr th {\n",
       "        vertical-align: top;\n",
       "    }\n",
       "\n",
       "    .dataframe thead th {\n",
       "        text-align: right;\n",
       "    }\n",
       "</style>\n",
       "<table border=\"1\" class=\"dataframe\">\n",
       "  <thead>\n",
       "    <tr style=\"text-align: right;\">\n",
       "      <th></th>\n",
       "      <th>total_bill</th>\n",
       "      <th>tip</th>\n",
       "      <th>sex</th>\n",
       "      <th>smoker</th>\n",
       "      <th>day</th>\n",
       "      <th>time</th>\n",
       "      <th>size</th>\n",
       "    </tr>\n",
       "  </thead>\n",
       "  <tbody>\n",
       "    <tr>\n",
       "      <th>1</th>\n",
       "      <td>-0.397918</td>\n",
       "      <td>0.818374</td>\n",
       "      <td>-0.644750</td>\n",
       "      <td>-0.639306</td>\n",
       "      <td>-0.090568</td>\n",
       "      <td>0.428607</td>\n",
       "      <td>-1.086356</td>\n",
       "    </tr>\n",
       "    <tr>\n",
       "      <th>0</th>\n",
       "      <td>1.074314</td>\n",
       "      <td>-1.239479</td>\n",
       "      <td>-0.250104</td>\n",
       "      <td>-0.073803</td>\n",
       "      <td>0.666188</td>\n",
       "      <td>-0.853629</td>\n",
       "      <td>-0.738055</td>\n",
       "    </tr>\n",
       "    <tr>\n",
       "      <th>1</th>\n",
       "      <td>-1.399936</td>\n",
       "      <td>1.277803</td>\n",
       "      <td>1.018304</td>\n",
       "      <td>0.438309</td>\n",
       "      <td>-1.014760</td>\n",
       "      <td>0.537119</td>\n",
       "      <td>1.342815</td>\n",
       "    </tr>\n",
       "    <tr>\n",
       "      <th>0</th>\n",
       "      <td>0.419266</td>\n",
       "      <td>-1.244967</td>\n",
       "      <td>1.464766</td>\n",
       "      <td>0.586907</td>\n",
       "      <td>-0.070931</td>\n",
       "      <td>-0.321162</td>\n",
       "      <td>0.357064</td>\n",
       "    </tr>\n",
       "    <tr>\n",
       "      <th>1</th>\n",
       "      <td>-2.022877</td>\n",
       "      <td>1.843131</td>\n",
       "      <td>1.478130</td>\n",
       "      <td>-0.349930</td>\n",
       "      <td>-1.467726</td>\n",
       "      <td>-0.815199</td>\n",
       "      <td>1.562918</td>\n",
       "    </tr>\n",
       "  </tbody>\n",
       "</table>\n",
       "</div>"
      ],
      "text/plain": [
       "   total_bill       tip       sex    smoker       day      time      size\n",
       "1   -0.397918  0.818374 -0.644750 -0.639306 -0.090568  0.428607 -1.086356\n",
       "0    1.074314 -1.239479 -0.250104 -0.073803  0.666188 -0.853629 -0.738055\n",
       "1   -1.399936  1.277803  1.018304  0.438309 -1.014760  0.537119  1.342815\n",
       "0    0.419266 -1.244967  1.464766  0.586907 -0.070931 -0.321162  0.357064\n",
       "1   -2.022877  1.843131  1.478130 -0.349930 -1.467726 -0.815199  1.562918"
      ]
     },
     "metadata": {},
     "execution_count": 12
    }
   ],
   "metadata": {}
  },
  {
   "cell_type": "code",
   "execution_count": 13,
   "source": [
    "df.tail()"
   ],
   "outputs": [
    {
     "output_type": "execute_result",
     "data": {
      "text/html": [
       "<div>\n",
       "<style scoped>\n",
       "    .dataframe tbody tr th:only-of-type {\n",
       "        vertical-align: middle;\n",
       "    }\n",
       "\n",
       "    .dataframe tbody tr th {\n",
       "        vertical-align: top;\n",
       "    }\n",
       "\n",
       "    .dataframe thead th {\n",
       "        text-align: right;\n",
       "    }\n",
       "</style>\n",
       "<table border=\"1\" class=\"dataframe\">\n",
       "  <thead>\n",
       "    <tr style=\"text-align: right;\">\n",
       "      <th></th>\n",
       "      <th>total_bill</th>\n",
       "      <th>tip</th>\n",
       "      <th>sex</th>\n",
       "      <th>smoker</th>\n",
       "      <th>day</th>\n",
       "      <th>time</th>\n",
       "      <th>size</th>\n",
       "    </tr>\n",
       "  </thead>\n",
       "  <tbody>\n",
       "    <tr>\n",
       "      <th>0</th>\n",
       "      <td>-0.065691</td>\n",
       "      <td>-0.801171</td>\n",
       "      <td>1.815164</td>\n",
       "      <td>1.080669</td>\n",
       "      <td>-0.421959</td>\n",
       "      <td>-0.738703</td>\n",
       "      <td>1.242320</td>\n",
       "    </tr>\n",
       "    <tr>\n",
       "      <th>1</th>\n",
       "      <td>-0.591902</td>\n",
       "      <td>0.410908</td>\n",
       "      <td>0.696034</td>\n",
       "      <td>-1.454902</td>\n",
       "      <td>-0.485280</td>\n",
       "      <td>-0.054758</td>\n",
       "      <td>-0.003128</td>\n",
       "    </tr>\n",
       "    <tr>\n",
       "      <th>1</th>\n",
       "      <td>-2.135162</td>\n",
       "      <td>2.577134</td>\n",
       "      <td>0.263689</td>\n",
       "      <td>-1.061479</td>\n",
       "      <td>-1.274592</td>\n",
       "      <td>-0.859944</td>\n",
       "      <td>0.382416</td>\n",
       "    </tr>\n",
       "    <tr>\n",
       "      <th>1</th>\n",
       "      <td>-2.110188</td>\n",
       "      <td>1.937879</td>\n",
       "      <td>1.510741</td>\n",
       "      <td>-1.502283</td>\n",
       "      <td>-1.524470</td>\n",
       "      <td>-1.368532</td>\n",
       "      <td>0.530541</td>\n",
       "    </tr>\n",
       "    <tr>\n",
       "      <th>0</th>\n",
       "      <td>-0.268096</td>\n",
       "      <td>-1.044673</td>\n",
       "      <td>2.841328</td>\n",
       "      <td>-1.761256</td>\n",
       "      <td>-0.754839</td>\n",
       "      <td>0.122435</td>\n",
       "      <td>-2.642347</td>\n",
       "    </tr>\n",
       "  </tbody>\n",
       "</table>\n",
       "</div>"
      ],
      "text/plain": [
       "   total_bill       tip       sex    smoker       day      time      size\n",
       "0   -0.065691 -0.801171  1.815164  1.080669 -0.421959 -0.738703  1.242320\n",
       "1   -0.591902  0.410908  0.696034 -1.454902 -0.485280 -0.054758 -0.003128\n",
       "1   -2.135162  2.577134  0.263689 -1.061479 -1.274592 -0.859944  0.382416\n",
       "1   -2.110188  1.937879  1.510741 -1.502283 -1.524470 -1.368532  0.530541\n",
       "0   -0.268096 -1.044673  2.841328 -1.761256 -0.754839  0.122435 -2.642347"
      ]
     },
     "metadata": {},
     "execution_count": 13
    }
   ],
   "metadata": {}
  },
  {
   "cell_type": "markdown",
   "source": [
    "<span style=\"color: rgba(55,227,27,1); font-size: 26px;\">Classes in size</span>"
   ],
   "metadata": {}
  },
  {
   "cell_type": "code",
   "execution_count": 14,
   "source": [
    "print(\"size\")\r\n",
    "print(df['size'].unique())"
   ],
   "outputs": [
    {
     "output_type": "stream",
     "name": "stdout",
     "text": [
      "size\n",
      "[-1.08635622 -0.73805473  1.34281513 ...  0.38241632  0.53054125\n",
      " -2.64234716]\n"
     ]
    }
   ],
   "metadata": {}
  },
  {
   "cell_type": "code",
   "execution_count": 15,
   "source": [
    "df.info()"
   ],
   "outputs": [
    {
     "output_type": "stream",
     "name": "stdout",
     "text": [
      "<class 'pandas.core.frame.DataFrame'>\n",
      "Int64Index: 1024 entries, 1 to 0\n",
      "Data columns (total 7 columns):\n",
      " #   Column      Non-Null Count  Dtype  \n",
      "---  ------      --------------  -----  \n",
      " 0   total_bill  1024 non-null   float64\n",
      " 1   tip         1024 non-null   float64\n",
      " 2   sex         1024 non-null   float64\n",
      " 3   smoker      1024 non-null   float64\n",
      " 4   day         1024 non-null   float64\n",
      " 5   time        1024 non-null   float64\n",
      " 6   size        1024 non-null   float64\n",
      "dtypes: float64(7)\n",
      "memory usage: 64.0 KB\n"
     ]
    }
   ],
   "metadata": {}
  },
  {
   "cell_type": "markdown",
   "source": [
    "<span style=\"color: rgba(55,227,27,1); font-size: 26px;\">Description</span>"
   ],
   "metadata": {}
  },
  {
   "cell_type": "code",
   "execution_count": 16,
   "source": [
    "df.describe()"
   ],
   "outputs": [
    {
     "output_type": "execute_result",
     "data": {
      "text/html": [
       "<div>\n",
       "<style scoped>\n",
       "    .dataframe tbody tr th:only-of-type {\n",
       "        vertical-align: middle;\n",
       "    }\n",
       "\n",
       "    .dataframe tbody tr th {\n",
       "        vertical-align: top;\n",
       "    }\n",
       "\n",
       "    .dataframe thead th {\n",
       "        text-align: right;\n",
       "    }\n",
       "</style>\n",
       "<table border=\"1\" class=\"dataframe\">\n",
       "  <thead>\n",
       "    <tr style=\"text-align: right;\">\n",
       "      <th></th>\n",
       "      <th>total_bill</th>\n",
       "      <th>tip</th>\n",
       "      <th>sex</th>\n",
       "      <th>smoker</th>\n",
       "      <th>day</th>\n",
       "      <th>time</th>\n",
       "      <th>size</th>\n",
       "    </tr>\n",
       "  </thead>\n",
       "  <tbody>\n",
       "    <tr>\n",
       "      <th>count</th>\n",
       "      <td>1024.000000</td>\n",
       "      <td>1024.000000</td>\n",
       "      <td>1024.000000</td>\n",
       "      <td>1024.000000</td>\n",
       "      <td>1024.000000</td>\n",
       "      <td>1024.000000</td>\n",
       "      <td>1024.000000</td>\n",
       "    </tr>\n",
       "    <tr>\n",
       "      <th>mean</th>\n",
       "      <td>0.007296</td>\n",
       "      <td>-0.007372</td>\n",
       "      <td>-0.003844</td>\n",
       "      <td>0.013011</td>\n",
       "      <td>0.004979</td>\n",
       "      <td>-0.008754</td>\n",
       "      <td>-0.028271</td>\n",
       "    </tr>\n",
       "    <tr>\n",
       "      <th>std</th>\n",
       "      <td>1.220189</td>\n",
       "      <td>1.297873</td>\n",
       "      <td>1.334892</td>\n",
       "      <td>0.967853</td>\n",
       "      <td>0.886649</td>\n",
       "      <td>0.994060</td>\n",
       "      <td>1.026494</td>\n",
       "    </tr>\n",
       "    <tr>\n",
       "      <th>min</th>\n",
       "      <td>-3.653024</td>\n",
       "      <td>-2.572387</td>\n",
       "      <td>-4.150393</td>\n",
       "      <td>-2.882789</td>\n",
       "      <td>-2.613757</td>\n",
       "      <td>-2.764570</td>\n",
       "      <td>-3.453956</td>\n",
       "    </tr>\n",
       "    <tr>\n",
       "      <th>25%</th>\n",
       "      <td>-0.820251</td>\n",
       "      <td>-1.041003</td>\n",
       "      <td>-1.009913</td>\n",
       "      <td>-0.608850</td>\n",
       "      <td>-0.535514</td>\n",
       "      <td>-0.668503</td>\n",
       "      <td>-0.746300</td>\n",
       "    </tr>\n",
       "    <tr>\n",
       "      <th>50%</th>\n",
       "      <td>0.216498</td>\n",
       "      <td>-0.302746</td>\n",
       "      <td>0.217773</td>\n",
       "      <td>-0.010601</td>\n",
       "      <td>0.021061</td>\n",
       "      <td>-0.007964</td>\n",
       "      <td>0.021516</td>\n",
       "    </tr>\n",
       "    <tr>\n",
       "      <th>75%</th>\n",
       "      <td>0.831574</td>\n",
       "      <td>0.987504</td>\n",
       "      <td>1.047374</td>\n",
       "      <td>0.618261</td>\n",
       "      <td>0.584438</td>\n",
       "      <td>0.626702</td>\n",
       "      <td>0.681442</td>\n",
       "    </tr>\n",
       "    <tr>\n",
       "      <th>max</th>\n",
       "      <td>3.095773</td>\n",
       "      <td>3.983592</td>\n",
       "      <td>3.346622</td>\n",
       "      <td>3.300568</td>\n",
       "      <td>2.555619</td>\n",
       "      <td>3.197968</td>\n",
       "      <td>3.005403</td>\n",
       "    </tr>\n",
       "  </tbody>\n",
       "</table>\n",
       "</div>"
      ],
      "text/plain": [
       "        total_bill          tip          sex       smoker          day  \\\n",
       "count  1024.000000  1024.000000  1024.000000  1024.000000  1024.000000   \n",
       "mean      0.007296    -0.007372    -0.003844     0.013011     0.004979   \n",
       "std       1.220189     1.297873     1.334892     0.967853     0.886649   \n",
       "min      -3.653024    -2.572387    -4.150393    -2.882789    -2.613757   \n",
       "25%      -0.820251    -1.041003    -1.009913    -0.608850    -0.535514   \n",
       "50%       0.216498    -0.302746     0.217773    -0.010601     0.021061   \n",
       "75%       0.831574     0.987504     1.047374     0.618261     0.584438   \n",
       "max       3.095773     3.983592     3.346622     3.300568     2.555619   \n",
       "\n",
       "              time         size  \n",
       "count  1024.000000  1024.000000  \n",
       "mean     -0.008754    -0.028271  \n",
       "std       0.994060     1.026494  \n",
       "min      -2.764570    -3.453956  \n",
       "25%      -0.668503    -0.746300  \n",
       "50%      -0.007964     0.021516  \n",
       "75%       0.626702     0.681442  \n",
       "max       3.197968     3.005403  "
      ]
     },
     "metadata": {},
     "execution_count": 16
    }
   ],
   "metadata": {}
  },
  {
   "cell_type": "markdown",
   "source": [
    "<span style=\"color: rgba(55,227,27,1); font-size: 26px;\">Data Classes from original dataset</span>"
   ],
   "metadata": {}
  },
  {
   "cell_type": "code",
   "execution_count": 17,
   "source": [
    "sns.FacetGrid(df, size=6) \\\r\n",
    "   .map(plt.scatter, \"total_bill\", \"tip\") \\\r\n",
    "   .add_legend()\r\n",
    "\r\n",
    "plt.show()"
   ],
   "outputs": [
    {
     "output_type": "stream",
     "name": "stderr",
     "text": [
      "D:\\Download\\Apps\\Anaconda\\lib\\site-packages\\seaborn\\axisgrid.py:316: UserWarning: The `size` parameter has been renamed to `height`; please update your code.\n",
      "  warnings.warn(msg, UserWarning)\n"
     ]
    },
    {
     "output_type": "display_data",
     "data": {
      "image/png": "[encoded data removed]",
      "text/plain": [
       "<Figure size 440x432 with 1 Axes>"
      ]
     },
     "metadata": {
      "needs_background": "light"
     }
    }
   ],
   "metadata": {}
  },
  {
   "cell_type": "markdown",
   "source": [
    "<span style=\"color: rgba(55,227,27,1); font-size: 26px;\">Preprocessing Steps: Separating Independent Features and Dependant Feature(Response)</span>"
   ],
   "metadata": {}
  },
  {
   "cell_type": "code",
   "execution_count": 18,
   "source": [
    "features = list(df.columns[1:6])            \t\r\n",
    "target = df.columns[6]                     \r\n",
    "\r\n",
    "print('Features:',features)\r\n",
    "print('Target:',target)\r\n",
    "\r\n",
    "# store feature matrix in \"X\"\r\n",
    "X = df.iloc[:,1:6]                         \r\n",
    "\r\n",
    "# store response vector in \"y\"\r\n",
    "y = df.iloc[:,6]                           \r\n",
    "\r\n",
    "\r\n",
    "print(y.shape)\r\n",
    "print(X.shape)"
   ],
   "outputs": [
    {
     "output_type": "stream",
     "name": "stdout",
     "text": [
      "Features: ['tip', 'sex', 'smoker', 'day', 'time']\n",
      "Target: size\n",
      "(1024,)\n",
      "(1024, 5)\n"
     ]
    }
   ],
   "metadata": {}
  },
  {
   "cell_type": "markdown",
   "source": [
    "<span style=\"color: rgba(55,227,27,1); font-size: 26px;\">Converting Response Variable 'Size' to numbers to train model and add column</span>"
   ],
   "metadata": {}
  },
  {
   "cell_type": "code",
   "execution_count": 19,
   "source": [
    "from sklearn import preprocessing\r\n",
    "le = preprocessing.LabelEncoder()\r\n",
    "le.fit(y)\r\n",
    "y=le.transform(y)\r\n",
    "\r\n",
    "\r\n",
    "df['Encodedsize'] = y\r\n",
    "\r\n",
    "print('Classes:',le.classes_)\r\n",
    "print('Response variable after encoding:',y)\r\n",
    "df.tail(10)"
   ],
   "outputs": [
    {
     "output_type": "stream",
     "name": "stdout",
     "text": [
      "Classes: [-3.45395612 -3.13465493 -2.92470692 ...  2.89121846  2.92482355\n",
      "  3.00540254]\n",
      "Response variable after encoding: [155 257 937 ... 658 712   7]\n"
     ]
    },
    {
     "output_type": "execute_result",
     "data": {
      "text/html": [
       "<div>\n",
       "<style scoped>\n",
       "    .dataframe tbody tr th:only-of-type {\n",
       "        vertical-align: middle;\n",
       "    }\n",
       "\n",
       "    .dataframe tbody tr th {\n",
       "        vertical-align: top;\n",
       "    }\n",
       "\n",
       "    .dataframe thead th {\n",
       "        text-align: right;\n",
       "    }\n",
       "</style>\n",
       "<table border=\"1\" class=\"dataframe\">\n",
       "  <thead>\n",
       "    <tr style=\"text-align: right;\">\n",
       "      <th></th>\n",
       "      <th>total_bill</th>\n",
       "      <th>tip</th>\n",
       "      <th>sex</th>\n",
       "      <th>smoker</th>\n",
       "      <th>day</th>\n",
       "      <th>time</th>\n",
       "      <th>size</th>\n",
       "      <th>Encodedsize</th>\n",
       "    </tr>\n",
       "  </thead>\n",
       "  <tbody>\n",
       "    <tr>\n",
       "      <th>0</th>\n",
       "      <td>0.926062</td>\n",
       "      <td>-0.972062</td>\n",
       "      <td>-0.413384</td>\n",
       "      <td>-0.437923</td>\n",
       "      <td>0.616149</td>\n",
       "      <td>-0.994343</td>\n",
       "      <td>-0.859999</td>\n",
       "      <td>216</td>\n",
       "    </tr>\n",
       "    <tr>\n",
       "      <th>0</th>\n",
       "      <td>0.727475</td>\n",
       "      <td>-0.308324</td>\n",
       "      <td>-1.259166</td>\n",
       "      <td>-0.004566</td>\n",
       "      <td>0.681939</td>\n",
       "      <td>0.474894</td>\n",
       "      <td>0.405332</td>\n",
       "      <td>667</td>\n",
       "    </tr>\n",
       "    <tr>\n",
       "      <th>0</th>\n",
       "      <td>-0.174757</td>\n",
       "      <td>-0.127789</td>\n",
       "      <td>0.716769</td>\n",
       "      <td>-0.344976</td>\n",
       "      <td>-0.251566</td>\n",
       "      <td>1.339679</td>\n",
       "      <td>0.188166</td>\n",
       "      <td>583</td>\n",
       "    </tr>\n",
       "    <tr>\n",
       "      <th>0</th>\n",
       "      <td>1.455320</td>\n",
       "      <td>-1.346155</td>\n",
       "      <td>-1.022058</td>\n",
       "      <td>0.005025</td>\n",
       "      <td>1.047168</td>\n",
       "      <td>-1.412103</td>\n",
       "      <td>1.024041</td>\n",
       "      <td>871</td>\n",
       "    </tr>\n",
       "    <tr>\n",
       "      <th>1</th>\n",
       "      <td>-0.394764</td>\n",
       "      <td>0.871237</td>\n",
       "      <td>-0.761447</td>\n",
       "      <td>0.155448</td>\n",
       "      <td>-0.064051</td>\n",
       "      <td>-0.165214</td>\n",
       "      <td>-0.822033</td>\n",
       "      <td>231</td>\n",
       "    </tr>\n",
       "    <tr>\n",
       "      <th>0</th>\n",
       "      <td>-0.065691</td>\n",
       "      <td>-0.801171</td>\n",
       "      <td>1.815164</td>\n",
       "      <td>1.080669</td>\n",
       "      <td>-0.421959</td>\n",
       "      <td>-0.738703</td>\n",
       "      <td>1.242320</td>\n",
       "      <td>919</td>\n",
       "    </tr>\n",
       "    <tr>\n",
       "      <th>1</th>\n",
       "      <td>-0.591902</td>\n",
       "      <td>0.410908</td>\n",
       "      <td>0.696034</td>\n",
       "      <td>-1.454902</td>\n",
       "      <td>-0.485280</td>\n",
       "      <td>-0.054758</td>\n",
       "      <td>-0.003128</td>\n",
       "      <td>504</td>\n",
       "    </tr>\n",
       "    <tr>\n",
       "      <th>1</th>\n",
       "      <td>-2.135162</td>\n",
       "      <td>2.577134</td>\n",
       "      <td>0.263689</td>\n",
       "      <td>-1.061479</td>\n",
       "      <td>-1.274592</td>\n",
       "      <td>-0.859944</td>\n",
       "      <td>0.382416</td>\n",
       "      <td>658</td>\n",
       "    </tr>\n",
       "    <tr>\n",
       "      <th>1</th>\n",
       "      <td>-2.110188</td>\n",
       "      <td>1.937879</td>\n",
       "      <td>1.510741</td>\n",
       "      <td>-1.502283</td>\n",
       "      <td>-1.524470</td>\n",
       "      <td>-1.368532</td>\n",
       "      <td>0.530541</td>\n",
       "      <td>712</td>\n",
       "    </tr>\n",
       "    <tr>\n",
       "      <th>0</th>\n",
       "      <td>-0.268096</td>\n",
       "      <td>-1.044673</td>\n",
       "      <td>2.841328</td>\n",
       "      <td>-1.761256</td>\n",
       "      <td>-0.754839</td>\n",
       "      <td>0.122435</td>\n",
       "      <td>-2.642347</td>\n",
       "      <td>7</td>\n",
       "    </tr>\n",
       "  </tbody>\n",
       "</table>\n",
       "</div>"
      ],
      "text/plain": [
       "   total_bill       tip       sex    smoker       day      time      size  \\\n",
       "0    0.926062 -0.972062 -0.413384 -0.437923  0.616149 -0.994343 -0.859999   \n",
       "0    0.727475 -0.308324 -1.259166 -0.004566  0.681939  0.474894  0.405332   \n",
       "0   -0.174757 -0.127789  0.716769 -0.344976 -0.251566  1.339679  0.188166   \n",
       "0    1.455320 -1.346155 -1.022058  0.005025  1.047168 -1.412103  1.024041   \n",
       "1   -0.394764  0.871237 -0.761447  0.155448 -0.064051 -0.165214 -0.822033   \n",
       "0   -0.065691 -0.801171  1.815164  1.080669 -0.421959 -0.738703  1.242320   \n",
       "1   -0.591902  0.410908  0.696034 -1.454902 -0.485280 -0.054758 -0.003128   \n",
       "1   -2.135162  2.577134  0.263689 -1.061479 -1.274592 -0.859944  0.382416   \n",
       "1   -2.110188  1.937879  1.510741 -1.502283 -1.524470 -1.368532  0.530541   \n",
       "0   -0.268096 -1.044673  2.841328 -1.761256 -0.754839  0.122435 -2.642347   \n",
       "\n",
       "   Encodedsize  \n",
       "0          216  \n",
       "0          667  \n",
       "0          583  \n",
       "0          871  \n",
       "1          231  \n",
       "0          919  \n",
       "1          504  \n",
       "1          658  \n",
       "1          712  \n",
       "0            7  "
      ]
     },
     "metadata": {},
     "execution_count": 19
    }
   ],
   "metadata": {}
  },
  {
   "cell_type": "markdown",
   "source": [
    "<span style=\"color: rgba(55,227,27,1); font-size: 26px;\">Classification Models</span><br>\r\n",
    "<span style=\"color: rgba(55,227,27,1); font-size: 26px;\">1 KNN Model</span>"
   ],
   "metadata": {}
  },
  {
   "cell_type": "code",
   "execution_count": 20,
   "source": [
    "from sklearn.neighbors import KNeighborsClassifier\r\n",
    "knn = KNeighborsClassifier(n_neighbors=1)\r\n",
    "knn.fit(X, y)"
   ],
   "outputs": [
    {
     "output_type": "execute_result",
     "data": {
      "text/plain": [
       "KNeighborsClassifier(n_neighbors=1)"
      ]
     },
     "metadata": {},
     "execution_count": 20
    }
   ],
   "metadata": {}
  },
  {
   "cell_type": "code",
   "execution_count": 21,
   "source": [
    "value = knn.predict([[3, 5, 4, 2, 1]])\r\n",
    "print('prediction value:',value)\r\n",
    "\r\n",
    "print('Predicted Class', df.loc[df['Encodedsize'] == 2, 'size'].values[0])"
   ],
   "outputs": [
    {
     "output_type": "stream",
     "name": "stdout",
     "text": [
      "prediction value: [299]\n",
      "Predicted Class -2.924706920187909\n"
     ]
    }
   ],
   "metadata": {}
  },
  {
   "cell_type": "code",
   "execution_count": 22,
   "source": [
    "X_new = [[3, 5, 4, 2, 1], [5, 4, 3, 2, 1]]                       \r\n",
    "knn.predict(X_new)"
   ],
   "outputs": [
    {
     "output_type": "execute_result",
     "data": {
      "text/plain": [
       "array([299, 299], dtype=int64)"
      ]
     },
     "metadata": {},
     "execution_count": 22
    }
   ],
   "metadata": {}
  },
  {
   "cell_type": "code",
   "execution_count": 23,
   "source": [
    "knn = KNeighborsClassifier(n_neighbors=5)\r\n",
    "\r\n",
    "# fit the model with data\r\n",
    "knn.fit(X, y)\r\n",
    "\r\n",
    "# predict the response for new observations\r\n",
    "print(knn.predict(X_new))\r\n",
    "\r\n",
    "kypred = knn.predict(X)"
   ],
   "outputs": [
    {
     "output_type": "stream",
     "name": "stdout",
     "text": [
      "[103 299]\n"
     ]
    }
   ],
   "metadata": {}
  },
  {
   "cell_type": "markdown",
   "source": [
    "<span style=\"color: rgba(55,227,27,1); font-size: 26px;\">How to check the best value for K?</span>"
   ],
   "metadata": {}
  },
  {
   "cell_type": "code",
   "execution_count": 41,
   "source": [
    "from sklearn import metrics\r\n",
    "v=[]\r\n",
    "\r\n",
    "k_range = list(range(1, 50))\r\n",
    "for i in k_range:\r\n",
    "    knn = KNeighborsClassifier(n_neighbors=i)\r\n",
    "    # fit the model with data\r\n",
    "    knn.fit(X, y)\r\n",
    "    k_pred = knn.predict(X)\r\n",
    "    v.append( metrics.accuracy_score(y, k_pred))\r\n",
    "\r\n",
    "\r\n",
    "import matplotlib.pyplot as plt\r\n",
    "plt.plot(k_range,v,c='Green',)\r\n",
    "plt.show()"
   ],
   "outputs": [
    {
     "output_type": "display_data",
     "data": {
      "image/png": "[encoded data removed]",
      "text/plain": [
       "<Figure size 432x288 with 1 Axes>"
      ]
     },
     "metadata": {
      "needs_background": "light"
     }
    }
   ],
   "metadata": {}
  },
  {
   "cell_type": "markdown",
   "source": [
    "<span style=\"color: rgba(55,227,27,1); font-size: 26px;\">KNN ACCURACY</span>"
   ],
   "metadata": {}
  },
  {
   "cell_type": "code",
   "execution_count": 25,
   "source": [
    "from sklearn import metrics\r\n",
    "print(metrics.accuracy_score(y, kypred))"
   ],
   "outputs": [
    {
     "output_type": "stream",
     "name": "stdout",
     "text": [
      "0.197265625\n"
     ]
    }
   ],
   "metadata": {}
  },
  {
   "cell_type": "markdown",
   "source": [
    "<span style=\"color: rgba(55,227,27,1); font-size: 26px;\">Evaluation procedure: Train/test split</span>"
   ],
   "metadata": {}
  },
  {
   "cell_type": "code",
   "execution_count": 26,
   "source": [
    "from sklearn.model_selection import train_test_split\r\n",
    "X_train, X_test, y_train, y_test = train_test_split(X, y, test_size=0.4, random_state=4)"
   ],
   "outputs": [],
   "metadata": {}
  },
  {
   "cell_type": "code",
   "execution_count": 27,
   "source": [
    "print(X_train.shape)\r\n",
    "print(y_train.shape)"
   ],
   "outputs": [
    {
     "output_type": "stream",
     "name": "stdout",
     "text": [
      "(614, 5)\n",
      "(614,)\n"
     ]
    }
   ],
   "metadata": {}
  },
  {
   "cell_type": "markdown",
   "source": [
    "<span style=\"color: rgba(55,227,27,1); font-size: 26px;\">KNN with Train Test</span>"
   ],
   "metadata": {}
  },
  {
   "cell_type": "code",
   "execution_count": 43,
   "source": [
    "from sklearn import metrics\r\n",
    "v=[]\r\n",
    "\r\n",
    "\r\n",
    "k_range = list(range(1, 50))\r\n",
    "for i in k_range:\r\n",
    "    knn = KNeighborsClassifier(n_neighbors=i)\r\n",
    "    # fit the model with data\r\n",
    "    knn.fit(X, y)\r\n",
    "    k_pred = knn.predict(X)\r\n",
    "    v.append( metrics.accuracy_score(y, k_pred))\r\n",
    "\r\n",
    "\r\n",
    "\r\n",
    "import matplotlib.pyplot as plt\r\n",
    "plt.plot(k_range,v)\r\n",
    "\r\n",
    "plt.show()"
   ],
   "outputs": [
    {
     "output_type": "display_data",
     "data": {
      "image/png": "[encoded data removed]",
      "text/plain": [
       "<Figure size 432x288 with 1 Axes>"
      ]
     },
     "metadata": {
      "needs_background": "light"
     }
    }
   ],
   "metadata": {}
  },
  {
   "cell_type": "code",
   "execution_count": 44,
   "source": [
    "knn = KNeighborsClassifier(n_neighbors=12)\r\n",
    "# fit the model with data\r\n",
    "knn.fit(X, y)\r\n",
    "k_pred = knn.predict(X)\r\n",
    "\r\n",
    "metrics.accuracy_score(y, k_pred)"
   ],
   "outputs": [
    {
     "output_type": "execute_result",
     "data": {
      "text/plain": [
       "0.0849609375"
      ]
     },
     "metadata": {},
     "execution_count": 44
    }
   ],
   "metadata": {}
  }
 ],
 "metadata": {
  "orig_nbformat": 4,
  "language_info": {
   "name": "python",
   "version": "3.8.8",
   "mimetype": "text/x-python",
   "codemirror_mode": {
    "name": "ipython",
    "version": 3
   },
   "pygments_lexer": "ipython3",
   "nbconvert_exporter": "python",
   "file_extension": ".py"
  },
  "kernelspec": {
   "name": "python3",
   "display_name": "Python 3.8.8 64-bit ('base': conda)"
  },
  "interpreter": {
   "hash": "2f54ef1b54d06a5d413a2f508861b71cbaa37192d6efec15c99abb9399941cd8"
  }
 },
 "nbformat": 4,
 "nbformat_minor": 2
}