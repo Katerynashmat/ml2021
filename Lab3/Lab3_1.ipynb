{
 "cells": [
  {
   "cell_type": "markdown",
   "source": [
    "<span style=\"color: rgba(55,227,27,1); font-size: 30px;\">Лабораторна робота №3</span><br>\r\n",
    "<span style=\"color: rgba(55,227,27,1); font-size: 24px;\">студентки групи МІТ-31</span><br>\r\n",
    "<span style=\"color: rgba(55,227,27,1); font-size: 24px;\">Шмат Катерини Сергіївни</span><br>\r\n",
    "<span style=\"color: rgba(55,227,27,1); font-size: 26px;\">Частина перша</span>"
   ],
   "metadata": {}
  },
  {
   "cell_type": "code",
   "execution_count": 44,
   "source": [
    "import pandas as pd\r\n",
    "import numpy as np\r\n",
    "import matplotlib.pyplot as plt\r\n",
    "import seaborn as sns\r\n",
    "from sklearn.datasets import make_regression"
   ],
   "outputs": [],
   "metadata": {}
  },
  {
   "cell_type": "code",
   "execution_count": 45,
   "source": [
    "X, y = make_regression(n_samples = 100 , n_features = 7 , n_informative = 10 , noise = 0.0 , coef = False , random_state = None )"
   ],
   "outputs": [],
   "metadata": {}
  },
  {
   "cell_type": "code",
   "execution_count": 46,
   "source": [
    "df = pd.DataFrame(X, y, columns=['total_bill', 'tip', 'sex', 'smoker', 'day', 'time', 'size'])\r\n",
    "df.head()"
   ],
   "outputs": [
    {
     "output_type": "execute_result",
     "data": {
      "text/html": [
       "<div>\n",
       "<style scoped>\n",
       "    .dataframe tbody tr th:only-of-type {\n",
       "        vertical-align: middle;\n",
       "    }\n",
       "\n",
       "    .dataframe tbody tr th {\n",
       "        vertical-align: top;\n",
       "    }\n",
       "\n",
       "    .dataframe thead th {\n",
       "        text-align: right;\n",
       "    }\n",
       "</style>\n",
       "<table border=\"1\" class=\"dataframe\">\n",
       "  <thead>\n",
       "    <tr style=\"text-align: right;\">\n",
       "      <th></th>\n",
       "      <th>total_bill</th>\n",
       "      <th>tip</th>\n",
       "      <th>sex</th>\n",
       "      <th>smoker</th>\n",
       "      <th>day</th>\n",
       "      <th>time</th>\n",
       "      <th>size</th>\n",
       "    </tr>\n",
       "  </thead>\n",
       "  <tbody>\n",
       "    <tr>\n",
       "      <th>-4.596599</th>\n",
       "      <td>-0.975886</td>\n",
       "      <td>-0.590947</td>\n",
       "      <td>0.715139</td>\n",
       "      <td>0.327723</td>\n",
       "      <td>-1.307105</td>\n",
       "      <td>0.001830</td>\n",
       "      <td>0.484420</td>\n",
       "    </tr>\n",
       "    <tr>\n",
       "      <th>-26.982228</th>\n",
       "      <td>0.691318</td>\n",
       "      <td>1.076025</td>\n",
       "      <td>-0.537661</td>\n",
       "      <td>-0.758127</td>\n",
       "      <td>-1.019560</td>\n",
       "      <td>0.294389</td>\n",
       "      <td>-1.575385</td>\n",
       "    </tr>\n",
       "    <tr>\n",
       "      <th>-56.651884</th>\n",
       "      <td>-0.196491</td>\n",
       "      <td>-1.414172</td>\n",
       "      <td>0.266458</td>\n",
       "      <td>-0.367504</td>\n",
       "      <td>-0.973404</td>\n",
       "      <td>0.627073</td>\n",
       "      <td>0.137817</td>\n",
       "    </tr>\n",
       "    <tr>\n",
       "      <th>-72.331764</th>\n",
       "      <td>0.362480</td>\n",
       "      <td>-0.973848</td>\n",
       "      <td>0.231800</td>\n",
       "      <td>0.329656</td>\n",
       "      <td>-1.520745</td>\n",
       "      <td>-0.766231</td>\n",
       "      <td>0.169240</td>\n",
       "    </tr>\n",
       "    <tr>\n",
       "      <th>-116.638975</th>\n",
       "      <td>-0.830788</td>\n",
       "      <td>0.244200</td>\n",
       "      <td>0.593583</td>\n",
       "      <td>-0.855664</td>\n",
       "      <td>-0.757166</td>\n",
       "      <td>-1.025192</td>\n",
       "      <td>-0.154809</td>\n",
       "    </tr>\n",
       "  </tbody>\n",
       "</table>\n",
       "</div>"
      ],
      "text/plain": [
       "             total_bill       tip       sex    smoker       day      time  \\\n",
       "-4.596599     -0.975886 -0.590947  0.715139  0.327723 -1.307105  0.001830   \n",
       "-26.982228     0.691318  1.076025 -0.537661 -0.758127 -1.019560  0.294389   \n",
       "-56.651884    -0.196491 -1.414172  0.266458 -0.367504 -0.973404  0.627073   \n",
       "-72.331764     0.362480 -0.973848  0.231800  0.329656 -1.520745 -0.766231   \n",
       "-116.638975   -0.830788  0.244200  0.593583 -0.855664 -0.757166 -1.025192   \n",
       "\n",
       "                 size  \n",
       "-4.596599    0.484420  \n",
       "-26.982228  -1.575385  \n",
       "-56.651884   0.137817  \n",
       "-72.331764   0.169240  \n",
       "-116.638975 -0.154809  "
      ]
     },
     "metadata": {},
     "execution_count": 46
    }
   ],
   "metadata": {}
  },
  {
   "cell_type": "code",
   "execution_count": 47,
   "source": [
    "df.tail()"
   ],
   "outputs": [
    {
     "output_type": "execute_result",
     "data": {
      "text/html": [
       "<div>\n",
       "<style scoped>\n",
       "    .dataframe tbody tr th:only-of-type {\n",
       "        vertical-align: middle;\n",
       "    }\n",
       "\n",
       "    .dataframe tbody tr th {\n",
       "        vertical-align: top;\n",
       "    }\n",
       "\n",
       "    .dataframe thead th {\n",
       "        text-align: right;\n",
       "    }\n",
       "</style>\n",
       "<table border=\"1\" class=\"dataframe\">\n",
       "  <thead>\n",
       "    <tr style=\"text-align: right;\">\n",
       "      <th></th>\n",
       "      <th>total_bill</th>\n",
       "      <th>tip</th>\n",
       "      <th>sex</th>\n",
       "      <th>smoker</th>\n",
       "      <th>day</th>\n",
       "      <th>time</th>\n",
       "      <th>size</th>\n",
       "    </tr>\n",
       "  </thead>\n",
       "  <tbody>\n",
       "    <tr>\n",
       "      <th>-91.495675</th>\n",
       "      <td>0.203086</td>\n",
       "      <td>-0.531467</td>\n",
       "      <td>0.542223</td>\n",
       "      <td>-0.159302</td>\n",
       "      <td>0.330832</td>\n",
       "      <td>-1.106709</td>\n",
       "      <td>-0.263998</td>\n",
       "    </tr>\n",
       "    <tr>\n",
       "      <th>-40.117377</th>\n",
       "      <td>-0.640580</td>\n",
       "      <td>-1.023641</td>\n",
       "      <td>0.662926</td>\n",
       "      <td>0.938714</td>\n",
       "      <td>0.122477</td>\n",
       "      <td>0.215941</td>\n",
       "      <td>-1.012026</td>\n",
       "    </tr>\n",
       "    <tr>\n",
       "      <th>212.127112</th>\n",
       "      <td>1.062697</td>\n",
       "      <td>0.401778</td>\n",
       "      <td>0.357254</td>\n",
       "      <td>-0.439415</td>\n",
       "      <td>0.435310</td>\n",
       "      <td>1.243164</td>\n",
       "      <td>0.573661</td>\n",
       "    </tr>\n",
       "    <tr>\n",
       "      <th>-60.380382</th>\n",
       "      <td>-1.668718</td>\n",
       "      <td>-0.197205</td>\n",
       "      <td>-0.241589</td>\n",
       "      <td>-0.647102</td>\n",
       "      <td>-0.480962</td>\n",
       "      <td>0.868786</td>\n",
       "      <td>0.523346</td>\n",
       "    </tr>\n",
       "    <tr>\n",
       "      <th>-71.043139</th>\n",
       "      <td>-0.432532</td>\n",
       "      <td>-1.593354</td>\n",
       "      <td>0.831818</td>\n",
       "      <td>2.077853</td>\n",
       "      <td>0.287324</td>\n",
       "      <td>-1.029164</td>\n",
       "      <td>-0.559407</td>\n",
       "    </tr>\n",
       "  </tbody>\n",
       "</table>\n",
       "</div>"
      ],
      "text/plain": [
       "             total_bill       tip       sex    smoker       day      time  \\\n",
       "-91.495675     0.203086 -0.531467  0.542223 -0.159302  0.330832 -1.106709   \n",
       "-40.117377    -0.640580 -1.023641  0.662926  0.938714  0.122477  0.215941   \n",
       " 212.127112    1.062697  0.401778  0.357254 -0.439415  0.435310  1.243164   \n",
       "-60.380382    -1.668718 -0.197205 -0.241589 -0.647102 -0.480962  0.868786   \n",
       "-71.043139    -0.432532 -1.593354  0.831818  2.077853  0.287324 -1.029164   \n",
       "\n",
       "                 size  \n",
       "-91.495675  -0.263998  \n",
       "-40.117377  -1.012026  \n",
       " 212.127112  0.573661  \n",
       "-60.380382   0.523346  \n",
       "-71.043139  -0.559407  "
      ]
     },
     "metadata": {},
     "execution_count": 47
    }
   ],
   "metadata": {}
  },
  {
   "cell_type": "markdown",
   "source": [
    "<span style=\"color: rgba(55,227,27,1); font-size: 26px;\">Classes in size</span>"
   ],
   "metadata": {}
  },
  {
   "cell_type": "code",
   "execution_count": 48,
   "source": [
    "print(\"size\")\r\n",
    "print(df['size'].unique())"
   ],
   "outputs": [
    {
     "output_type": "stream",
     "name": "stdout",
     "text": [
      "size\n",
      "[ 0.48442029 -1.57538469  0.13781664  0.1692395  -0.15480893  1.43390795\n",
      "  0.59489666  0.24269004  0.52165524  0.11717876  0.53514753 -1.63786113\n",
      "  0.27624072  0.74933296  0.9962401  -1.54565171 -1.90671285 -2.00149187\n",
      "  0.16787639  0.54060431 -0.01877571  1.04632645  0.5460899   0.57557758\n",
      " -0.07235854 -1.81691558  0.55650287 -0.99997224 -0.80294841 -2.80050173\n",
      "  0.12229528 -1.41964102  0.68010583 -0.86725111 -0.49340286  0.86678919\n",
      "  1.85445797  0.08625844  0.88256967  1.11752971  0.27833401 -0.20738024\n",
      "  0.4142252  -0.42834901  0.05423164 -1.17300604  0.19547071  1.32843743\n",
      "  0.86277631 -1.03800807  1.84923813 -0.93801199  0.98992514  0.50896961\n",
      " -0.66537106 -1.17503327  0.57049382 -0.13051982  0.47121986  0.04648602\n",
      "  0.07868104 -0.10981837 -1.5095015   1.07427527 -1.02373465 -0.0878123\n",
      " -0.24484038  1.13010125  0.00866548 -0.51805458  0.31662052 -2.06713468\n",
      " -1.46241333 -0.4225556   0.5579195  -0.98080122  1.54205683 -0.9617658\n",
      "  1.16900013 -1.02157256  0.27313421  0.45961574  0.43970032  0.2344717\n",
      " -0.00728929 -1.25229871 -0.27608623  0.39347478  0.99821029 -0.18584133\n",
      " -1.27550712 -1.17431554  0.26569136 -1.22799082  0.75706068 -0.26399778\n",
      " -1.0120264   0.57366135  0.52334637 -0.55940652]\n"
     ]
    }
   ],
   "metadata": {}
  },
  {
   "cell_type": "code",
   "execution_count": 49,
   "source": [
    "df.info()"
   ],
   "outputs": [
    {
     "output_type": "stream",
     "name": "stdout",
     "text": [
      "<class 'pandas.core.frame.DataFrame'>\n",
      "Float64Index: 100 entries, -4.596599467701083 to -71.04313898621484\n",
      "Data columns (total 7 columns):\n",
      " #   Column      Non-Null Count  Dtype  \n",
      "---  ------      --------------  -----  \n",
      " 0   total_bill  100 non-null    float64\n",
      " 1   tip         100 non-null    float64\n",
      " 2   sex         100 non-null    float64\n",
      " 3   smoker      100 non-null    float64\n",
      " 4   day         100 non-null    float64\n",
      " 5   time        100 non-null    float64\n",
      " 6   size        100 non-null    float64\n",
      "dtypes: float64(7)\n",
      "memory usage: 6.2 KB\n"
     ]
    }
   ],
   "metadata": {}
  },
  {
   "cell_type": "markdown",
   "source": [
    "<span style=\"color: rgba(55,227,27,1); font-size: 26px;\">Description</span>"
   ],
   "metadata": {}
  },
  {
   "cell_type": "code",
   "execution_count": 50,
   "source": [
    "df.describe()"
   ],
   "outputs": [
    {
     "output_type": "execute_result",
     "data": {
      "text/html": [
       "<div>\n",
       "<style scoped>\n",
       "    .dataframe tbody tr th:only-of-type {\n",
       "        vertical-align: middle;\n",
       "    }\n",
       "\n",
       "    .dataframe tbody tr th {\n",
       "        vertical-align: top;\n",
       "    }\n",
       "\n",
       "    .dataframe thead th {\n",
       "        text-align: right;\n",
       "    }\n",
       "</style>\n",
       "<table border=\"1\" class=\"dataframe\">\n",
       "  <thead>\n",
       "    <tr style=\"text-align: right;\">\n",
       "      <th></th>\n",
       "      <th>total_bill</th>\n",
       "      <th>tip</th>\n",
       "      <th>sex</th>\n",
       "      <th>smoker</th>\n",
       "      <th>day</th>\n",
       "      <th>time</th>\n",
       "      <th>size</th>\n",
       "    </tr>\n",
       "  </thead>\n",
       "  <tbody>\n",
       "    <tr>\n",
       "      <th>count</th>\n",
       "      <td>100.000000</td>\n",
       "      <td>100.000000</td>\n",
       "      <td>100.000000</td>\n",
       "      <td>100.000000</td>\n",
       "      <td>100.000000</td>\n",
       "      <td>100.000000</td>\n",
       "      <td>100.000000</td>\n",
       "    </tr>\n",
       "    <tr>\n",
       "      <th>mean</th>\n",
       "      <td>0.021521</td>\n",
       "      <td>0.011393</td>\n",
       "      <td>-0.053320</td>\n",
       "      <td>0.000169</td>\n",
       "      <td>-0.142635</td>\n",
       "      <td>-0.117358</td>\n",
       "      <td>-0.078469</td>\n",
       "    </tr>\n",
       "    <tr>\n",
       "      <th>std</th>\n",
       "      <td>1.007522</td>\n",
       "      <td>0.899013</td>\n",
       "      <td>0.948225</td>\n",
       "      <td>0.970356</td>\n",
       "      <td>0.949706</td>\n",
       "      <td>0.966514</td>\n",
       "      <td>0.943604</td>\n",
       "    </tr>\n",
       "    <tr>\n",
       "      <th>min</th>\n",
       "      <td>-2.209207</td>\n",
       "      <td>-1.741783</td>\n",
       "      <td>-3.250197</td>\n",
       "      <td>-2.303045</td>\n",
       "      <td>-2.303617</td>\n",
       "      <td>-3.026745</td>\n",
       "      <td>-2.800502</td>\n",
       "    </tr>\n",
       "    <tr>\n",
       "      <th>25%</th>\n",
       "      <td>-0.671091</td>\n",
       "      <td>-0.613949</td>\n",
       "      <td>-0.547643</td>\n",
       "      <td>-0.731151</td>\n",
       "      <td>-0.879090</td>\n",
       "      <td>-0.810141</td>\n",
       "      <td>-0.884941</td>\n",
       "    </tr>\n",
       "    <tr>\n",
       "      <th>50%</th>\n",
       "      <td>-0.036894</td>\n",
       "      <td>0.004131</td>\n",
       "      <td>-0.054969</td>\n",
       "      <td>-0.093174</td>\n",
       "      <td>-0.039731</td>\n",
       "      <td>-0.067976</td>\n",
       "      <td>0.101719</td>\n",
       "    </tr>\n",
       "    <tr>\n",
       "      <th>75%</th>\n",
       "      <td>0.738017</td>\n",
       "      <td>0.536126</td>\n",
       "      <td>0.593334</td>\n",
       "      <td>0.692774</td>\n",
       "      <td>0.437321</td>\n",
       "      <td>0.566038</td>\n",
       "      <td>0.548693</td>\n",
       "    </tr>\n",
       "    <tr>\n",
       "      <th>max</th>\n",
       "      <td>2.387117</td>\n",
       "      <td>2.420934</td>\n",
       "      <td>2.094789</td>\n",
       "      <td>2.176632</td>\n",
       "      <td>2.164601</td>\n",
       "      <td>2.062676</td>\n",
       "      <td>1.854458</td>\n",
       "    </tr>\n",
       "  </tbody>\n",
       "</table>\n",
       "</div>"
      ],
      "text/plain": [
       "       total_bill         tip         sex      smoker         day        time  \\\n",
       "count  100.000000  100.000000  100.000000  100.000000  100.000000  100.000000   \n",
       "mean     0.021521    0.011393   -0.053320    0.000169   -0.142635   -0.117358   \n",
       "std      1.007522    0.899013    0.948225    0.970356    0.949706    0.966514   \n",
       "min     -2.209207   -1.741783   -3.250197   -2.303045   -2.303617   -3.026745   \n",
       "25%     -0.671091   -0.613949   -0.547643   -0.731151   -0.879090   -0.810141   \n",
       "50%     -0.036894    0.004131   -0.054969   -0.093174   -0.039731   -0.067976   \n",
       "75%      0.738017    0.536126    0.593334    0.692774    0.437321    0.566038   \n",
       "max      2.387117    2.420934    2.094789    2.176632    2.164601    2.062676   \n",
       "\n",
       "             size  \n",
       "count  100.000000  \n",
       "mean    -0.078469  \n",
       "std      0.943604  \n",
       "min     -2.800502  \n",
       "25%     -0.884941  \n",
       "50%      0.101719  \n",
       "75%      0.548693  \n",
       "max      1.854458  "
      ]
     },
     "metadata": {},
     "execution_count": 50
    }
   ],
   "metadata": {}
  },
  {
   "cell_type": "markdown",
   "source": [
    "<span style=\"color: rgba(55,227,27,1); font-size: 26px;\">Data Classes from original dataset</span>"
   ],
   "metadata": {}
  },
  {
   "cell_type": "code",
   "execution_count": 51,
   "source": [
    "sns.FacetGrid(df, size=6) \\\r\n",
    "   .map(plt.scatter, \"total_bill\", \"tip\") \\\r\n",
    "   .add_legend()\r\n",
    "\r\n",
    "plt.show()"
   ],
   "outputs": [
    {
     "output_type": "stream",
     "name": "stderr",
     "text": [
      "D:\\Download\\Apps\\Anaconda\\lib\\site-packages\\seaborn\\axisgrid.py:316: UserWarning: The `size` parameter has been renamed to `height`; please update your code.\n",
      "  warnings.warn(msg, UserWarning)\n"
     ]
    },
    {
     "output_type": "display_data",
     "data": {
      "image/png": "[encoded data removed]",
      "text/plain": [
       "<Figure size 440x432 with 1 Axes>"
      ]
     },
     "metadata": {
      "needs_background": "light"
     }
    }
   ],
   "metadata": {}
  },
  {
   "cell_type": "markdown",
   "source": [
    "<span style=\"color: rgba(55,227,27,1); font-size: 26px;\">Preprocessing Steps: Separating Independent Features and Dependant Feature(Response)</span>"
   ],
   "metadata": {}
  },
  {
   "cell_type": "code",
   "execution_count": 52,
   "source": [
    "features = list(df.columns[1:6])            \t\r\n",
    "target = df.columns[6]                     \r\n",
    "\r\n",
    "print('Features:',features)\r\n",
    "print('Target:',target)\r\n",
    "\r\n",
    "# store feature matrix in \"X\"\r\n",
    "X = df.iloc[:,1:6]                         \r\n",
    "\r\n",
    "# store response vector in \"y\"\r\n",
    "y = df.iloc[:,6]                           \r\n",
    "\r\n",
    "\r\n",
    "print(y.shape)\r\n",
    "print(X.shape)"
   ],
   "outputs": [
    {
     "output_type": "stream",
     "name": "stdout",
     "text": [
      "Features: ['tip', 'sex', 'smoker', 'day', 'time']\n",
      "Target: size\n",
      "(100,)\n",
      "(100, 5)\n"
     ]
    }
   ],
   "metadata": {}
  },
  {
   "cell_type": "markdown",
   "source": [
    "<span style=\"color: rgba(55,227,27,1); font-size: 26px;\">Converting Response Variable 'Size' to numbers to train model and add column</span>"
   ],
   "metadata": {}
  },
  {
   "cell_type": "code",
   "execution_count": 53,
   "source": [
    "from sklearn import preprocessing\r\n",
    "le = preprocessing.LabelEncoder()\r\n",
    "le.fit(y)\r\n",
    "y=le.transform(y)\r\n",
    "\r\n",
    "\r\n",
    "df['Encodedsize'] = y\r\n",
    "\r\n",
    "print('Classes:',le.classes_)\r\n",
    "print('Response variable after encoding:',y)\r\n",
    "df.tail(10)"
   ],
   "outputs": [
    {
     "output_type": "stream",
     "name": "stdout",
     "text": [
      "Classes: [-2.80050173 -2.06713468 -2.00149187 -1.90671285 -1.81691558 -1.63786113\n",
      " -1.57538469 -1.54565171 -1.5095015  -1.46241333 -1.41964102 -1.27550712\n",
      " -1.25229871 -1.22799082 -1.17503327 -1.17431554 -1.17300604 -1.03800807\n",
      " -1.02373465 -1.02157256 -1.0120264  -0.99997224 -0.98080122 -0.9617658\n",
      " -0.93801199 -0.86725111 -0.80294841 -0.66537106 -0.55940652 -0.51805458\n",
      " -0.49340286 -0.42834901 -0.4225556  -0.27608623 -0.26399778 -0.24484038\n",
      " -0.20738024 -0.18584133 -0.15480893 -0.13051982 -0.10981837 -0.0878123\n",
      " -0.07235854 -0.01877571 -0.00728929  0.00866548  0.04648602  0.05423164\n",
      "  0.07868104  0.08625844  0.11717876  0.12229528  0.13781664  0.16787639\n",
      "  0.1692395   0.19547071  0.2344717   0.24269004  0.26569136  0.27313421\n",
      "  0.27624072  0.27833401  0.31662052  0.39347478  0.4142252   0.43970032\n",
      "  0.45961574  0.47121986  0.48442029  0.50896961  0.52165524  0.52334637\n",
      "  0.53514753  0.54060431  0.5460899   0.55650287  0.5579195   0.57049382\n",
      "  0.57366135  0.57557758  0.59489666  0.68010583  0.74933296  0.75706068\n",
      "  0.86277631  0.86678919  0.88256967  0.98992514  0.9962401   0.99821029\n",
      "  1.04632645  1.07427527  1.11752971  1.13010125  1.16900013  1.32843743\n",
      "  1.43390795  1.54205683  1.84923813  1.85445797]\n",
      "Response variable after encoding: [68  6 52 54 38 96 80 57 70 50 72  5 60 82 88  7  3  2 53 73 43 90 74 79\n",
      " 42  4 75 21 26  0 51 10 81 25 30 85 99 49 86 92 61 36 64 31 47 16 55 95\n",
      " 84 17 98 24 87 69 27 14 77 39 67 46 48 40  8 91 18 41 35 93 45 29 62  1\n",
      "  9 32 76 22 97 23 94 19 59 66 65 56 44 12 33 63 89 37 11 15 58 13 83 34\n",
      " 20 78 71 28]\n"
     ]
    },
    {
     "output_type": "execute_result",
     "data": {
      "text/html": [
       "<div>\n",
       "<style scoped>\n",
       "    .dataframe tbody tr th:only-of-type {\n",
       "        vertical-align: middle;\n",
       "    }\n",
       "\n",
       "    .dataframe tbody tr th {\n",
       "        vertical-align: top;\n",
       "    }\n",
       "\n",
       "    .dataframe thead th {\n",
       "        text-align: right;\n",
       "    }\n",
       "</style>\n",
       "<table border=\"1\" class=\"dataframe\">\n",
       "  <thead>\n",
       "    <tr style=\"text-align: right;\">\n",
       "      <th></th>\n",
       "      <th>total_bill</th>\n",
       "      <th>tip</th>\n",
       "      <th>sex</th>\n",
       "      <th>smoker</th>\n",
       "      <th>day</th>\n",
       "      <th>time</th>\n",
       "      <th>size</th>\n",
       "      <th>Encodedsize</th>\n",
       "    </tr>\n",
       "  </thead>\n",
       "  <tbody>\n",
       "    <tr>\n",
       "      <th>-110.954304</th>\n",
       "      <td>-0.771751</td>\n",
       "      <td>0.899815</td>\n",
       "      <td>0.129349</td>\n",
       "      <td>-1.217524</td>\n",
       "      <td>0.761188</td>\n",
       "      <td>-0.275339</td>\n",
       "      <td>-1.275507</td>\n",
       "      <td>11</td>\n",
       "    </tr>\n",
       "    <tr>\n",
       "      <th>-165.124480</th>\n",
       "      <td>0.987124</td>\n",
       "      <td>-0.795205</td>\n",
       "      <td>-0.872747</td>\n",
       "      <td>-0.738741</td>\n",
       "      <td>0.576111</td>\n",
       "      <td>-0.065739</td>\n",
       "      <td>-1.174316</td>\n",
       "      <td>15</td>\n",
       "    </tr>\n",
       "    <tr>\n",
       "      <th>-202.884272</th>\n",
       "      <td>-1.309768</td>\n",
       "      <td>0.207264</td>\n",
       "      <td>-0.145871</td>\n",
       "      <td>-2.287927</td>\n",
       "      <td>0.563766</td>\n",
       "      <td>-0.485350</td>\n",
       "      <td>0.265691</td>\n",
       "      <td>58</td>\n",
       "    </tr>\n",
       "    <tr>\n",
       "      <th>-137.656179</th>\n",
       "      <td>0.349302</td>\n",
       "      <td>-1.013839</td>\n",
       "      <td>-1.598849</td>\n",
       "      <td>1.517235</td>\n",
       "      <td>0.414190</td>\n",
       "      <td>0.148523</td>\n",
       "      <td>-1.227991</td>\n",
       "      <td>13</td>\n",
       "    </tr>\n",
       "    <tr>\n",
       "      <th>11.678728</th>\n",
       "      <td>-0.993193</td>\n",
       "      <td>0.896895</td>\n",
       "      <td>0.205686</td>\n",
       "      <td>-0.446952</td>\n",
       "      <td>0.094309</td>\n",
       "      <td>-0.370362</td>\n",
       "      <td>0.757061</td>\n",
       "      <td>83</td>\n",
       "    </tr>\n",
       "    <tr>\n",
       "      <th>-91.495675</th>\n",
       "      <td>0.203086</td>\n",
       "      <td>-0.531467</td>\n",
       "      <td>0.542223</td>\n",
       "      <td>-0.159302</td>\n",
       "      <td>0.330832</td>\n",
       "      <td>-1.106709</td>\n",
       "      <td>-0.263998</td>\n",
       "      <td>34</td>\n",
       "    </tr>\n",
       "    <tr>\n",
       "      <th>-40.117377</th>\n",
       "      <td>-0.640580</td>\n",
       "      <td>-1.023641</td>\n",
       "      <td>0.662926</td>\n",
       "      <td>0.938714</td>\n",
       "      <td>0.122477</td>\n",
       "      <td>0.215941</td>\n",
       "      <td>-1.012026</td>\n",
       "      <td>20</td>\n",
       "    </tr>\n",
       "    <tr>\n",
       "      <th>212.127112</th>\n",
       "      <td>1.062697</td>\n",
       "      <td>0.401778</td>\n",
       "      <td>0.357254</td>\n",
       "      <td>-0.439415</td>\n",
       "      <td>0.435310</td>\n",
       "      <td>1.243164</td>\n",
       "      <td>0.573661</td>\n",
       "      <td>78</td>\n",
       "    </tr>\n",
       "    <tr>\n",
       "      <th>-60.380382</th>\n",
       "      <td>-1.668718</td>\n",
       "      <td>-0.197205</td>\n",
       "      <td>-0.241589</td>\n",
       "      <td>-0.647102</td>\n",
       "      <td>-0.480962</td>\n",
       "      <td>0.868786</td>\n",
       "      <td>0.523346</td>\n",
       "      <td>71</td>\n",
       "    </tr>\n",
       "    <tr>\n",
       "      <th>-71.043139</th>\n",
       "      <td>-0.432532</td>\n",
       "      <td>-1.593354</td>\n",
       "      <td>0.831818</td>\n",
       "      <td>2.077853</td>\n",
       "      <td>0.287324</td>\n",
       "      <td>-1.029164</td>\n",
       "      <td>-0.559407</td>\n",
       "      <td>28</td>\n",
       "    </tr>\n",
       "  </tbody>\n",
       "</table>\n",
       "</div>"
      ],
      "text/plain": [
       "             total_bill       tip       sex    smoker       day      time  \\\n",
       "-110.954304   -0.771751  0.899815  0.129349 -1.217524  0.761188 -0.275339   \n",
       "-165.124480    0.987124 -0.795205 -0.872747 -0.738741  0.576111 -0.065739   \n",
       "-202.884272   -1.309768  0.207264 -0.145871 -2.287927  0.563766 -0.485350   \n",
       "-137.656179    0.349302 -1.013839 -1.598849  1.517235  0.414190  0.148523   \n",
       " 11.678728    -0.993193  0.896895  0.205686 -0.446952  0.094309 -0.370362   \n",
       "-91.495675     0.203086 -0.531467  0.542223 -0.159302  0.330832 -1.106709   \n",
       "-40.117377    -0.640580 -1.023641  0.662926  0.938714  0.122477  0.215941   \n",
       " 212.127112    1.062697  0.401778  0.357254 -0.439415  0.435310  1.243164   \n",
       "-60.380382    -1.668718 -0.197205 -0.241589 -0.647102 -0.480962  0.868786   \n",
       "-71.043139    -0.432532 -1.593354  0.831818  2.077853  0.287324 -1.029164   \n",
       "\n",
       "                 size  Encodedsize  \n",
       "-110.954304 -1.275507           11  \n",
       "-165.124480 -1.174316           15  \n",
       "-202.884272  0.265691           58  \n",
       "-137.656179 -1.227991           13  \n",
       " 11.678728   0.757061           83  \n",
       "-91.495675  -0.263998           34  \n",
       "-40.117377  -1.012026           20  \n",
       " 212.127112  0.573661           78  \n",
       "-60.380382   0.523346           71  \n",
       "-71.043139  -0.559407           28  "
      ]
     },
     "metadata": {},
     "execution_count": 53
    }
   ],
   "metadata": {}
  },
  {
   "cell_type": "markdown",
   "source": [
    "<span style=\"color: rgba(55,227,27,1); font-size: 26px;\">Classification Models</span><br>\r\n",
    "<span style=\"color: rgba(55,227,27,1); font-size: 26px;\">1 KNN Model</span>"
   ],
   "metadata": {}
  },
  {
   "cell_type": "code",
   "execution_count": 54,
   "source": [
    "from sklearn.neighbors import KNeighborsClassifier\r\n",
    "knn = KNeighborsClassifier(n_neighbors=1)\r\n",
    "knn.fit(X, y)"
   ],
   "outputs": [
    {
     "output_type": "execute_result",
     "data": {
      "text/plain": [
       "KNeighborsClassifier(n_neighbors=1)"
      ]
     },
     "metadata": {},
     "execution_count": 54
    }
   ],
   "metadata": {}
  },
  {
   "cell_type": "code",
   "execution_count": 55,
   "source": [
    "value = knn.predict([[3, 5, 4, 2, 1]])\r\n",
    "print('prediction value:',value)\r\n",
    "\r\n",
    "print('Predicted Class', df.loc[df['Encodedsize'] == 2, 'size'].values[0])"
   ],
   "outputs": [
    {
     "output_type": "stream",
     "name": "stdout",
     "text": [
      "prediction value: [55]\n",
      "Predicted Class -2.0014918660400074\n"
     ]
    }
   ],
   "metadata": {}
  },
  {
   "cell_type": "code",
   "execution_count": 56,
   "source": [
    "X_new = [[3, 5, 4, 2, 1], [5, 4, 3, 2, 1]]                       \r\n",
    "knn.predict(X_new)"
   ],
   "outputs": [
    {
     "output_type": "execute_result",
     "data": {
      "text/plain": [
       "array([55, 55], dtype=int64)"
      ]
     },
     "metadata": {},
     "execution_count": 56
    }
   ],
   "metadata": {}
  },
  {
   "cell_type": "code",
   "execution_count": 57,
   "source": [
    "knn = KNeighborsClassifier(n_neighbors=5)\r\n",
    "\r\n",
    "# fit the model with data\r\n",
    "knn.fit(X, y)\r\n",
    "\r\n",
    "# predict the response for new observations\r\n",
    "print(knn.predict(X_new))\r\n",
    "\r\n",
    "kypred = knn.predict(X)"
   ],
   "outputs": [
    {
     "output_type": "stream",
     "name": "stdout",
     "text": [
      "[4 4]\n"
     ]
    }
   ],
   "metadata": {}
  },
  {
   "cell_type": "markdown",
   "source": [
    "<span style=\"color: rgba(55,227,27,1); font-size: 26px;\">How to check the best value for K?</span>"
   ],
   "metadata": {}
  },
  {
   "cell_type": "code",
   "execution_count": 58,
   "source": [
    "from sklearn import metrics\r\n",
    "v=[]\r\n",
    "\r\n",
    "k_range = list(range(1, 50))\r\n",
    "for i in k_range:\r\n",
    "    knn = KNeighborsClassifier(n_neighbors=i)\r\n",
    "    # fit the model with data\r\n",
    "    knn.fit(X, y)\r\n",
    "    k_pred = knn.predict(X)\r\n",
    "    v.append( metrics.accuracy_score(y, k_pred))\r\n",
    "\r\n",
    "\r\n",
    "import matplotlib.pyplot as plt\r\n",
    "plt.plot(k_range,v,c='Green',)\r\n",
    "plt.show()"
   ],
   "outputs": [
    {
     "output_type": "display_data",
     "data": {
      "image/png": "[encoded data removed]",
      "text/plain": [
       "<Figure size 432x288 with 1 Axes>"
      ]
     },
     "metadata": {
      "needs_background": "light"
     }
    }
   ],
   "metadata": {}
  },
  {
   "cell_type": "markdown",
   "source": [
    "<span style=\"color: rgba(55,227,27,1); font-size: 26px;\">KNN ACCURACY</span>"
   ],
   "metadata": {}
  },
  {
   "cell_type": "code",
   "execution_count": 59,
   "source": [
    "from sklearn import metrics\r\n",
    "print(metrics.accuracy_score(y, kypred))"
   ],
   "outputs": [
    {
     "output_type": "stream",
     "name": "stdout",
     "text": [
      "0.17\n"
     ]
    }
   ],
   "metadata": {}
  },
  {
   "cell_type": "markdown",
   "source": [
    "<span style=\"color: rgba(55,227,27,1); font-size: 26px;\">Evaluation procedure: Train/test split</span>"
   ],
   "metadata": {}
  },
  {
   "cell_type": "code",
   "execution_count": 60,
   "source": [
    "from sklearn.model_selection import train_test_split\r\n",
    "X_train, X_test, y_train, y_test = train_test_split(X, y, test_size=0.4, random_state=4)"
   ],
   "outputs": [],
   "metadata": {}
  },
  {
   "cell_type": "code",
   "execution_count": 61,
   "source": [
    "print(X_train.shape)\r\n",
    "print(y_train.shape)"
   ],
   "outputs": [
    {
     "output_type": "stream",
     "name": "stdout",
     "text": [
      "(60, 5)\n",
      "(60,)\n"
     ]
    }
   ],
   "metadata": {}
  },
  {
   "cell_type": "markdown",
   "source": [
    "<span style=\"color: rgba(55,227,27,1); font-size: 26px;\">KNN with Train Test</span>"
   ],
   "metadata": {}
  },
  {
   "cell_type": "code",
   "execution_count": 62,
   "source": [
    "from sklearn import metrics\r\n",
    "v=[]\r\n",
    "\r\n",
    "\r\n",
    "k_range = list(range(1, 50))\r\n",
    "for i in k_range:\r\n",
    "    knn = KNeighborsClassifier(n_neighbors=i)\r\n",
    "    # fit the model with data\r\n",
    "    knn.fit(X_train, y_train)\r\n",
    "    k_pred = knn.predict(X_test)\r\n",
    "    v.append( metrics.accuracy_score(y_test, k_pred))\r\n",
    "\r\n",
    "\r\n",
    "\r\n",
    "import matplotlib.pyplot as plt\r\n",
    "plt.plot(k_range,v)\r\n",
    "\r\n",
    "plt.show()"
   ],
   "outputs": [
    {
     "output_type": "display_data",
     "data": {
      "image/png": "[encoded data removed]",
      "text/plain": [
       "<Figure size 432x288 with 1 Axes>"
      ]
     },
     "metadata": {
      "needs_background": "light"
     }
    }
   ],
   "metadata": {}
  },
  {
   "cell_type": "code",
   "execution_count": 63,
   "source": [
    "knn = KNeighborsClassifier(n_neighbors=12)\r\n",
    "# fit the model with data\r\n",
    "knn.fit(X_train, y_train)\r\n",
    "k_pred = knn.predict(X_test)\r\n",
    "\r\n",
    "metrics.accuracy_score(y_test, k_pred)"
   ],
   "outputs": [
    {
     "output_type": "execute_result",
     "data": {
      "text/plain": [
       "0.0"
      ]
     },
     "metadata": {},
     "execution_count": 63
    }
   ],
   "metadata": {}
  }
 ],
 "metadata": {
  "orig_nbformat": 4,
  "language_info": {
   "name": "python",
   "version": "3.8.8",
   "mimetype": "text/x-python",
   "codemirror_mode": {
    "name": "ipython",
    "version": 3
   },
   "pygments_lexer": "ipython3",
   "nbconvert_exporter": "python",
   "file_extension": ".py"
  },
  "kernelspec": {
   "name": "python3",
   "display_name": "Python 3.8.8 64-bit ('base': conda)"
  },
  "interpreter": {
   "hash": "2f54ef1b54d06a5d413a2f508861b71cbaa37192d6efec15c99abb9399941cd8"
  }
 },
 "nbformat": 4,
 "nbformat_minor": 2
}