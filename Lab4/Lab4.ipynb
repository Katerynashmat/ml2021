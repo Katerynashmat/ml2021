{
  "cells": [
    {
      "cell_type": "markdown",
      "metadata": {},
      "source": [
        "<span style=\"color: rgba(0, 255, 170, 1); font-size: 30px;\">Лабораторна робота №4</span><br>\n",
        "<span style=\"color: rgba(0, 255, 170, 1); font-size: 24px;\">студентки групи МІТ-31</span><br>\n",
        "<span style=\"color: rgba(0, 255, 170, 1); font-size: 24px;\">Шмат Катерини Сергіївни</span><br>"
      ]
    },
    {
      "cell_type": "markdown",
      "metadata": {
        "id": "46HiB8p8EK_U"
      },
      "source": [
        "<span style=\"color: rgba(0, 255, 170, 1); font-size: 16px;\">Task1 - Здійснити загальні операції з використанням TensorFlow (створити набір даних (розмір за власним рішенням) у вигляді тензорів, провести CRUD операції над даними (скаляр, вектор, матриця)).</span><br>\n",
        "<span style=\"color: rgba(0, 255, 170, 1); font-size: 16px;\">Task2 - Згенерувати набір даних для регресії та класифікації з використанням TensorFlow</span><br>\n",
        "<span style=\"color: rgba(0, 255, 170, 1); font-size: 16px;\">Task3 - Здійснити графічний аналіз наборів даних за допомогою Matplotlib.</span>"
      ]
    },
    {
      "cell_type": "code",
      "execution_count": 36,
      "metadata": {},
      "outputs": [],
      "source": [
        "import tensorflow as tf\n",
        "import numpy as np\n",
        "import matplotlib.pyplot as plt\n",
        "import numpy as np\n",
        "import sklearn.metrics as metrics\n",
        "import pandas as pd\n",
        "import seaborn as sns"
      ]
    },
    {
      "cell_type": "code",
      "execution_count": 37,
      "metadata": {},
      "outputs": [
        {
          "name": "stdout",
          "output_type": "stream",
          "text": [
            "tf.Tensor(\n",
            "[[1 2]\n",
            " [3 4]], shape=(2, 2), dtype=int32)\n",
            "[[ 1  4]\n",
            " [ 9 16]]\n",
            "tf.Tensor(\n",
            "[[101 102]\n",
            " [103 104]], shape=(2, 2), dtype=int32)\n",
            "tf.Tensor([[101 102]], shape=(1, 2), dtype=int32)\n"
          ]
        }
      ],
      "source": [
        "# crud\n",
        "# create new\n",
        "tf1 = tf.constant([[1, 2], [3, 4]])\n",
        "print(tf1)\n",
        "\n",
        "# read and convert to numPy object\n",
        "print(np.square(tf1))\n",
        "\n",
        "# update little bit\n",
        "tf1 = tf1 + 100\n",
        "print(tf1)\n",
        "\n",
        "# delete 2nd row\n",
        "tf1_without_2nd_row = tf.gather(tf1, [0])\n",
        "print(tf1_without_2nd_row)"
      ]
    },
    {
      "cell_type": "code",
      "execution_count": 38,
      "metadata": {},
      "outputs": [
        {
          "data": {
            "text/plain": [
              "<tf.Tensor: shape=(), dtype=int32, numpy=10>"
            ]
          },
          "execution_count": 38,
          "metadata": {},
          "output_type": "execute_result"
        }
      ],
      "source": [
        "scalar = tf.constant(10)\n",
        "scalar"
      ]
    },
    {
      "cell_type": "code",
      "execution_count": 39,
      "metadata": {},
      "outputs": [
        {
          "data": {
            "text/plain": [
              "0"
            ]
          },
          "execution_count": 39,
          "metadata": {},
          "output_type": "execute_result"
        }
      ],
      "source": [
        "scalar.ndim"
      ]
    },
    {
      "cell_type": "code",
      "execution_count": 40,
      "metadata": {},
      "outputs": [
        {
          "data": {
            "text/plain": [
              "<tf.Tensor: shape=(2,), dtype=float32, numpy=array([19. , 11.2], dtype=float32)>"
            ]
          },
          "execution_count": 40,
          "metadata": {},
          "output_type": "execute_result"
        }
      ],
      "source": [
        "vector = tf.constant([19, 11.2])\n",
        "vector"
      ]
    },
    {
      "cell_type": "code",
      "execution_count": 41,
      "metadata": {},
      "outputs": [
        {
          "data": {
            "text/plain": [
              "1"
            ]
          },
          "execution_count": 41,
          "metadata": {},
          "output_type": "execute_result"
        }
      ],
      "source": [
        "vector.ndim"
      ]
    },
    {
      "cell_type": "code",
      "execution_count": 42,
      "metadata": {},
      "outputs": [
        {
          "data": {
            "text/plain": [
              "<tf.Tensor: shape=(2, 2), dtype=int32, numpy=\n",
              "array([[1, 2],\n",
              "       [3, 4]])>"
            ]
          },
          "execution_count": 42,
          "metadata": {},
          "output_type": "execute_result"
        }
      ],
      "source": [
        "mat1 = tf.constant([[1, 2],\n",
        "                      [3, 4]])\n",
        "mat1"
      ]
    },
    {
      "cell_type": "code",
      "execution_count": 43,
      "metadata": {},
      "outputs": [
        {
          "data": {
            "text/plain": [
              "2"
            ]
          },
          "execution_count": 43,
          "metadata": {},
          "output_type": "execute_result"
        }
      ],
      "source": [
        "mat1.ndim"
      ]
    },
    {
      "cell_type": "code",
      "execution_count": 44,
      "metadata": {},
      "outputs": [
        {
          "data": {
            "text/plain": [
              "<tf.Tensor: shape=(3, 2), dtype=float16, numpy=\n",
              "array([[1., 4.],\n",
              "       [3., 2.],\n",
              "       [5., 6.]], dtype=float16)>"
            ]
          },
          "execution_count": 44,
          "metadata": {},
          "output_type": "execute_result"
        }
      ],
      "source": [
        "mat2 = tf.constant([[1., 4.],\n",
        "                    [3., 2.],\n",
        "                    [5., 6.]], dtype=tf.float16)\n",
        "\n",
        "mat2"
      ]
    },
    {
      "cell_type": "code",
      "execution_count": 45,
      "metadata": {},
      "outputs": [
        {
          "data": {
            "text/plain": [
              "2"
            ]
          },
          "execution_count": 45,
          "metadata": {},
          "output_type": "execute_result"
        }
      ],
      "source": [
        "mat2.ndim"
      ]
    },
    {
      "cell_type": "code",
      "execution_count": 46,
      "metadata": {},
      "outputs": [
        {
          "data": {
            "text/plain": [
              "<tf.Tensor: shape=(3, 2, 3), dtype=int32, numpy=\n",
              "array([[[ 1,  2,  3],\n",
              "        [ 4,  5,  6]],\n",
              "\n",
              "       [[ 7,  8,  9],\n",
              "        [10, 11, 12]],\n",
              "\n",
              "       [[13, 14, 15],\n",
              "        [16, 17, 18]]])>"
            ]
          },
          "execution_count": 46,
          "metadata": {},
          "output_type": "execute_result"
        }
      ],
      "source": [
        "tensor = tf.constant([[[1, 2, 3,],\n",
        "                       [4, 5, 6]],\n",
        "                      [[7, 8, 9],\n",
        "                       [10, 11, 12]],\n",
        "                      [[13, 14, 15],\n",
        "                       [16, 17, 18]]])\n",
        "tensor"
      ]
    },
    {
      "cell_type": "code",
      "execution_count": 47,
      "metadata": {},
      "outputs": [
        {
          "data": {
            "text/plain": [
              "3"
            ]
          },
          "execution_count": 47,
          "metadata": {},
          "output_type": "execute_result"
        }
      ],
      "source": [
        "tensor.ndim"
      ]
    },
    {
      "cell_type": "markdown",
      "metadata": {},
      "source": [
        "<span style=\"color: rgba(0, 255, 170, 1); font-size: 16px;\">Create random tensors</span>"
      ]
    },
    {
      "cell_type": "code",
      "execution_count": 48,
      "metadata": {},
      "outputs": [],
      "source": [
        "random_1 = tf.random.Generator.from_seed(7)\n",
        "random_1 = random_1.normal(shape=(4, 2))\n",
        "random_2 = tf.random.Generator.from_seed(10)\n",
        "random_2 = random_2.normal(shape=(5, 3))"
      ]
    },
    {
      "cell_type": "markdown",
      "metadata": {},
      "source": [
        "<span style=\"color: rgba(0, 255, 170, 1); font-size: 16px;\">DataFrame into TensorFlow</span>"
      ]
    },
    {
      "cell_type": "code",
      "execution_count": 49,
      "metadata": {},
      "outputs": [
        {
          "name": "stdout",
          "output_type": "stream",
          "text": [
            "   c1  c2  c3  c3  c5\n",
            "0   0   5   4   6   4\n",
            "1   5   1   1   9   0\n",
            "2   2   1   4   8   6\n",
            "3   0   4   0   6   5\n",
            "4   6   3   8   3   5\n",
            "             c1        c2        c3        c3        c5\n",
            "count  5.000000  5.000000  5.000000  5.000000  5.000000\n",
            "mean   2.600000  2.800000  3.400000  6.400000  4.000000\n",
            "std    2.792848  1.788854  3.130495  2.302173  2.345208\n",
            "min    0.000000  1.000000  0.000000  3.000000  0.000000\n",
            "25%    0.000000  1.000000  1.000000  6.000000  4.000000\n",
            "50%    2.000000  3.000000  4.000000  6.000000  5.000000\n",
            "75%    5.000000  4.000000  4.000000  8.000000  5.000000\n",
            "max    6.000000  5.000000  8.000000  9.000000  6.000000\n"
          ]
        }
      ],
      "source": [
        "df2 = pd.DataFrame(np.random.randint(0, 10, (5, 5)), columns=[\"c1\", \"c2\", \"c3\", \"c3\", \"c5\"])\n",
        "print(df2)\n",
        "print(df2.describe(include='all'))"
      ]
    },
    {
      "cell_type": "code",
      "execution_count": 50,
      "metadata": {},
      "outputs": [
        {
          "name": "stdout",
          "output_type": "stream",
          "text": [
            "   feature1  feature2  feature3  target\n",
            "0  0.695713  0.430683  0.909132       2\n",
            "1  0.491438  0.526275  0.081840       0\n",
            "2  0.636889  0.750964  0.766972       2\n",
            "3  0.542194  0.381256  0.190016       2\n",
            "4  0.556767  0.825525  0.359775       0\n",
            "5  0.316339  0.811281  0.339326       0\n",
            "6  0.742850  0.980315  0.874482       1\n",
            "7  0.194517  0.892985  0.015154       0\n",
            "8  0.893950  0.663466  0.512794       1\n",
            "9  0.699144  0.439235  0.444827       1\n",
            "features:[0.6957129  0.43068293 0.9091323 ] target:2\n",
            "features:[0.49143788 0.52627474 0.08183962] target:0\n",
            "features:[0.6368893  0.75096434 0.76697195] target:2\n",
            "features:[0.5421942  0.381256   0.19001609] target:2\n",
            "features:[0.55676717 0.8255254  0.35977465] target:0\n",
            "features:[0.3163386  0.81128097 0.339326  ] target:0\n",
            "features:[0.7428496  0.98031485 0.87448245] target:1\n",
            "features:[0.19451737 0.89298505 0.01515419] target:0\n",
            "features:[0.89395    0.66346604 0.51279426] target:1\n",
            "features:[0.6991439  0.43923536 0.44482654] target:1\n"
          ]
        }
      ],
      "source": [
        "training_df: pd.DataFrame = pd.DataFrame(\n",
        "    data={\n",
        "        'feature1': np.random.rand(10),\n",
        "        'feature2': np.random.rand(10),\n",
        "        'feature3': np.random.rand(10),\n",
        "        'target': np.random.randint(0, 3, 10)\n",
        "    }\n",
        ")\n",
        "features = ['feature1', 'feature2', 'feature3']\n",
        "print(training_df)\n",
        "\n",
        "training_dataset = (\n",
        "    tf.data.Dataset.from_tensor_slices(\n",
        "        (\n",
        "            tf.cast(training_df[features].values, tf.float32),\n",
        "            tf.cast(training_df['target'].values, tf.int32)\n",
        "        )\n",
        "    )\n",
        ")\n",
        "\n",
        "for features_tensor, target_tensor in training_dataset:\n",
        "    print(f'features:{features_tensor} target:{target_tensor}')"
      ]
    },
    {
      "cell_type": "markdown",
      "metadata": {},
      "source": [
        "<span style=\"color: rgba(0, 255, 170, 1); font-size: 16px;\">Графічний аналіз за допомогою Matplotlib.</span>"
      ]
    },
    {
      "cell_type": "code",
      "execution_count": 51,
      "metadata": {},
      "outputs": [
        {
          "data": {
            "image/png": "[encoded data removed]",
            "text/plain": [
              "<Figure size 432x288 with 1 Axes>"
            ]
          },
          "metadata": {
            "needs_background": "light"
          },
          "output_type": "display_data"
        }
      ],
      "source": [
        "x = np.arange(0, 6, 0.5)\n",
        "y1 = x * 1.5\n",
        "\n",
        "adder = np.random.random(len(x)) * 1.4 - 0.7\n",
        "y2 = y1 + adder\n",
        "\n",
        "plt.figure()\n",
        "plt.grid()\n",
        "plt.xticks(x)\n",
        "plt.yticks(range(int(x[-1] * 1.5 + 1)))\n",
        "plt.xlabel('X Axis')\n",
        "plt.ylabel('Y Axis')\n",
        "\n",
        "plt.plot(x, y1, \"r--\", label=\"teoretic\")\n",
        "plt.plot(x, y2, \"b\", label=\"result\")\n",
        "\n",
        "plt.legend()\n",
        "plt.show()"
      ]
    },
    {
      "cell_type": "code",
      "execution_count": 52,
      "metadata": {},
      "outputs": [
        {
          "name": "stdout",
          "output_type": "stream",
          "text": [
            "0.329826624354612\n",
            "0.1454157825188221\n"
          ]
        }
      ],
      "source": [
        "mae = metrics.mean_absolute_error(y2, y1)\n",
        "mse = metrics.mean_squared_error(y2, y1)\n",
        "print(mae)\n",
        "print(mse)\n"
      ]
    },
    {
      "cell_type": "code",
      "execution_count": 53,
      "metadata": {},
      "outputs": [
        {
          "name": "stdout",
          "output_type": "stream",
          "text": [
            "      X         Y  Y_hat\n",
            "0   0.0 -0.245554   0.00\n",
            "1   0.5  0.137745   0.75\n",
            "2   1.0  1.285388   1.50\n",
            "3   1.5  2.181540   2.25\n",
            "4   2.0  3.505380   3.00\n",
            "5   2.5  3.615307   3.75\n",
            "6   3.0  4.094651   4.50\n",
            "7   3.5  4.939455   5.25\n",
            "8   4.0  6.608265   6.00\n",
            "9   4.5  6.984806   6.75\n",
            "10  5.0  7.424143   7.50\n",
            "11  5.5  8.792143   8.25\n"
          ]
        }
      ],
      "source": [
        "df = pd.DataFrame(np.array([x, y2, y1]).swapaxes(0,1), columns=['X', 'Y', 'Y_hat'])\n",
        "print(df)\n",
        "with open('output.csv', 'w') as f:\n",
        "    f.write(df.to_csv(index=False))\n"
      ]
    },
    {
      "cell_type": "markdown",
      "metadata": {},
      "source": [
        "<span style=\"color: rgba(0, 255, 170, 1); font-size: 16px;\">Класифікація</span>"
      ]
    },
    {
      "cell_type": "code",
      "execution_count": 57,
      "metadata": {},
      "outputs": [
        {
          "data": {
            "text/plain": [
              "<keras.callbacks.History at 0x210a8c486d0>"
            ]
          },
          "execution_count": 57,
          "metadata": {},
          "output_type": "execute_result"
        }
      ],
      "source": [
        "tf.random.set_seed(42)\n",
        "\n",
        "model_1 = tf.keras.Sequential([\n",
        "  tf.keras.layers.Dense(100), \n",
        "  tf.keras.layers.Dense(10),\n",
        "  tf.keras.layers.Dense(1)\n",
        "])\n",
        "\n",
        "model_1.compile(loss=tf.keras.losses.BinaryCrossentropy(),\n",
        "                optimizer=tf.keras.optimizers.Adam(), \n",
        "                metrics=['accuracy'])\n",
        "\n",
        "model_1.fit(x, y1, epochs=80, verbose=0)"
      ]
    },
    {
      "cell_type": "code",
      "execution_count": 55,
      "metadata": {},
      "outputs": [],
      "source": [
        "def plot_decision_boundary(model, X, y):\n",
        "\n",
        "  x_min, x_max = X[:, 0].min() - 0.1, X[:, 0].max() + 0.1\n",
        "  y_min, y_max = X[:, 1].min() - 0.1, X[:, 1].max() + 0.1\n",
        "  xx, yy = np.meshgrid(np.linspace(x_min, x_max, 100),\n",
        "                       np.linspace(y_min, y_max, 100))\n",
        "  \n",
        "  x_in = np.c_[xx.ravel(), yy.ravel()]\n",
        " \n",
        "  y_pred = model.predict(x_in)\n",
        "\n",
        "  if len(y_pred[0]) > 1:\n",
        "    print(\"doing multiclass classification...\")\n",
        "    y_pred = np.argmax(y_pred, axis=1).reshape(xx.shape)\n",
        "  else:\n",
        "    print(\"doing binary classifcation...\")\n",
        "    y_pred = np.round(y_pred).reshape(xx.shape)\n",
        "\n",
        "  plt.contourf(xx, yy, y_pred, cmap=plt.cm.RdYlBu, alpha=0.7)\n",
        "  plt.scatter(X[:, 0], X[:, 1], c=y, s=40, cmap=plt.cm.RdYlBu)\n",
        "  plt.xlim(xx.min(), xx.max())\n",
        "  plt.ylim(yy.min(), yy.max())"
      ]
    },
    {
      "cell_type": "code",
      "execution_count": 61,
      "metadata": {},
      "outputs": [],
      "source": [
        "tf.random.set_seed(42)\n",
        "\n",
        "X_regression = np.arange(0, 1000, 5)\n",
        "y_regression = np.arange(100, 1100, 5)\n",
        "\n",
        "X_reg_train = X_regression[:150]\n",
        "X_reg_test = X_regression[150:]\n",
        "y_reg_train = y_regression[:150]\n",
        "y_reg_test = y_regression[150:]\n"
      ]
    },
    {
      "cell_type": "code",
      "execution_count": 63,
      "metadata": {},
      "outputs": [
        {
          "name": "stdout",
          "output_type": "stream",
          "text": [
            "Epoch 1/100\n",
            "5/5 [==============================] - 1s 4ms/step - loss: 248.2155 - mae: 248.2155\n",
            "Epoch 2/100\n",
            "5/5 [==============================] - 0s 3ms/step - loss: 138.9005 - mae: 138.9005\n",
            "Epoch 3/100\n",
            "5/5 [==============================] - 0s 5ms/step - loss: 53.1039 - mae: 53.1039\n",
            "Epoch 4/100\n",
            "5/5 [==============================] - 0s 4ms/step - loss: 73.5170 - mae: 73.5170\n",
            "Epoch 5/100\n",
            "5/5 [==============================] - 0s 4ms/step - loss: 71.2358 - mae: 71.2358\n",
            "Epoch 6/100\n",
            "5/5 [==============================] - 0s 4ms/step - loss: 47.0040 - mae: 47.0040\n",
            "Epoch 7/100\n",
            "5/5 [==============================] - 0s 3ms/step - loss: 45.9386 - mae: 45.9386\n",
            "Epoch 8/100\n",
            "5/5 [==============================] - 0s 4ms/step - loss: 42.3638 - mae: 42.3638\n",
            "Epoch 9/100\n",
            "5/5 [==============================] - 0s 3ms/step - loss: 43.6831 - mae: 43.6831\n",
            "Epoch 10/100\n",
            "5/5 [==============================] - 0s 4ms/step - loss: 42.6198 - mae: 42.6198\n",
            "Epoch 11/100\n",
            "5/5 [==============================] - 0s 2ms/step - loss: 42.4797 - mae: 42.4797\n",
            "Epoch 12/100\n",
            "5/5 [==============================] - 0s 4ms/step - loss: 41.5537 - mae: 41.5537\n",
            "Epoch 13/100\n",
            "5/5 [==============================] - 0s 4ms/step - loss: 42.0972 - mae: 42.0972\n",
            "Epoch 14/100\n",
            "5/5 [==============================] - 0s 3ms/step - loss: 41.8647 - mae: 41.8647\n",
            "Epoch 15/100\n",
            "5/5 [==============================] - 0s 4ms/step - loss: 41.5342 - mae: 41.5342\n",
            "Epoch 16/100\n",
            "5/5 [==============================] - 0s 4ms/step - loss: 41.4028 - mae: 41.4028\n",
            "Epoch 17/100\n",
            "5/5 [==============================] - 0s 3ms/step - loss: 41.6887 - mae: 41.6887\n",
            "Epoch 18/100\n",
            "5/5 [==============================] - 0s 2ms/step - loss: 41.6137 - mae: 41.6137\n",
            "Epoch 19/100\n",
            "5/5 [==============================] - 0s 2ms/step - loss: 41.2796 - mae: 41.2796\n",
            "Epoch 20/100\n",
            "5/5 [==============================] - 0s 2ms/step - loss: 41.1947 - mae: 41.1947\n",
            "Epoch 21/100\n",
            "5/5 [==============================] - 0s 2ms/step - loss: 41.2130 - mae: 41.2130\n",
            "Epoch 22/100\n",
            "5/5 [==============================] - 0s 2ms/step - loss: 41.0893 - mae: 41.0893\n",
            "Epoch 23/100\n",
            "5/5 [==============================] - 0s 2ms/step - loss: 41.2019 - mae: 41.2019\n",
            "Epoch 24/100\n",
            "5/5 [==============================] - 0s 2ms/step - loss: 40.9989 - mae: 40.9989\n",
            "Epoch 25/100\n",
            "5/5 [==============================] - 0s 2ms/step - loss: 41.0131 - mae: 41.0131\n",
            "Epoch 26/100\n",
            "5/5 [==============================] - 0s 2ms/step - loss: 41.0654 - mae: 41.0654\n",
            "Epoch 27/100\n",
            "5/5 [==============================] - 0s 2ms/step - loss: 40.8764 - mae: 40.8764\n",
            "Epoch 28/100\n",
            "5/5 [==============================] - 0s 2ms/step - loss: 41.0545 - mae: 41.0545\n",
            "Epoch 29/100\n",
            "5/5 [==============================] - 0s 2ms/step - loss: 41.0480 - mae: 41.0480\n",
            "Epoch 30/100\n",
            "5/5 [==============================] - 0s 2ms/step - loss: 40.8807 - mae: 40.8807\n",
            "Epoch 31/100\n",
            "5/5 [==============================] - 0s 2ms/step - loss: 41.2695 - mae: 41.2695\n",
            "Epoch 32/100\n",
            "5/5 [==============================] - 0s 2ms/step - loss: 40.9949 - mae: 40.9949\n",
            "Epoch 33/100\n",
            "5/5 [==============================] - 0s 2ms/step - loss: 41.0760 - mae: 41.0760\n",
            "Epoch 34/100\n",
            "5/5 [==============================] - 0s 2ms/step - loss: 41.2471 - mae: 41.2471\n",
            "Epoch 35/100\n",
            "5/5 [==============================] - 0s 2ms/step - loss: 40.6102 - mae: 40.6102\n",
            "Epoch 36/100\n",
            "5/5 [==============================] - 0s 2ms/step - loss: 41.1093 - mae: 41.1093\n",
            "Epoch 37/100\n",
            "5/5 [==============================] - 0s 2ms/step - loss: 40.8191 - mae: 40.8191\n",
            "Epoch 38/100\n",
            "5/5 [==============================] - 0s 2ms/step - loss: 40.2485 - mae: 40.2485\n",
            "Epoch 39/100\n",
            "5/5 [==============================] - 0s 1ms/step - loss: 41.0625 - mae: 41.0625\n",
            "Epoch 40/100\n",
            "5/5 [==============================] - 0s 2ms/step - loss: 40.5311 - mae: 40.5311\n",
            "Epoch 41/100\n",
            "5/5 [==============================] - 0s 2ms/step - loss: 40.5497 - mae: 40.5497\n",
            "Epoch 42/100\n",
            "5/5 [==============================] - 0s 2ms/step - loss: 40.4322 - mae: 40.4322\n",
            "Epoch 43/100\n",
            "5/5 [==============================] - 0s 2ms/step - loss: 40.5367 - mae: 40.5367\n",
            "Epoch 44/100\n",
            "5/5 [==============================] - 0s 2ms/step - loss: 40.2487 - mae: 40.2487\n",
            "Epoch 45/100\n",
            "5/5 [==============================] - 0s 2ms/step - loss: 40.5152 - mae: 40.5152\n",
            "Epoch 46/100\n",
            "5/5 [==============================] - 0s 2ms/step - loss: 40.3702 - mae: 40.3702\n",
            "Epoch 47/100\n",
            "5/5 [==============================] - 0s 2ms/step - loss: 40.4769 - mae: 40.4769\n",
            "Epoch 48/100\n",
            "5/5 [==============================] - 0s 2ms/step - loss: 40.1532 - mae: 40.1532\n",
            "Epoch 49/100\n",
            "5/5 [==============================] - 0s 2ms/step - loss: 40.7291 - mae: 40.7291\n",
            "Epoch 50/100\n",
            "5/5 [==============================] - 0s 5ms/step - loss: 40.1536 - mae: 40.1536\n",
            "Epoch 51/100\n",
            "5/5 [==============================] - 0s 3ms/step - loss: 40.2711 - mae: 40.2711\n",
            "Epoch 52/100\n",
            "5/5 [==============================] - 0s 2ms/step - loss: 40.6572 - mae: 40.6572\n",
            "Epoch 53/100\n",
            "5/5 [==============================] - 0s 2ms/step - loss: 40.6573 - mae: 40.6573\n",
            "Epoch 54/100\n",
            "5/5 [==============================] - 0s 2ms/step - loss: 40.6894 - mae: 40.6894\n",
            "Epoch 55/100\n",
            "5/5 [==============================] - 0s 2ms/step - loss: 41.2771 - mae: 41.2771\n",
            "Epoch 56/100\n",
            "5/5 [==============================] - 0s 1ms/step - loss: 41.8519 - mae: 41.8519\n",
            "Epoch 57/100\n",
            "5/5 [==============================] - 0s 2ms/step - loss: 40.7903 - mae: 40.7903\n",
            "Epoch 58/100\n",
            "5/5 [==============================] - 0s 2ms/step - loss: 40.3128 - mae: 40.3128\n",
            "Epoch 59/100\n",
            "5/5 [==============================] - 0s 1ms/step - loss: 40.7198 - mae: 40.7198\n",
            "Epoch 60/100\n",
            "5/5 [==============================] - 0s 2ms/step - loss: 40.1478 - mae: 40.1478\n",
            "Epoch 61/100\n",
            "5/5 [==============================] - 0s 2ms/step - loss: 40.1116 - mae: 40.1116\n",
            "Epoch 62/100\n",
            "5/5 [==============================] - 0s 2ms/step - loss: 40.7800 - mae: 40.7800\n",
            "Epoch 63/100\n",
            "5/5 [==============================] - 0s 2ms/step - loss: 39.7242 - mae: 39.7242\n",
            "Epoch 64/100\n",
            "5/5 [==============================] - 0s 2ms/step - loss: 40.1465 - mae: 40.1465\n",
            "Epoch 65/100\n",
            "5/5 [==============================] - 0s 2ms/step - loss: 39.6887 - mae: 39.6887\n",
            "Epoch 66/100\n",
            "5/5 [==============================] - 0s 2ms/step - loss: 40.2840 - mae: 40.2840\n",
            "Epoch 67/100\n",
            "5/5 [==============================] - 0s 2ms/step - loss: 39.5541 - mae: 39.5541\n",
            "Epoch 68/100\n",
            "5/5 [==============================] - 0s 2ms/step - loss: 39.7378 - mae: 39.7378\n",
            "Epoch 69/100\n",
            "5/5 [==============================] - 0s 2ms/step - loss: 39.9784 - mae: 39.9784\n",
            "Epoch 70/100\n",
            "5/5 [==============================] - 0s 2ms/step - loss: 40.0016 - mae: 40.0016\n",
            "Epoch 71/100\n",
            "5/5 [==============================] - 0s 1ms/step - loss: 40.0913 - mae: 40.0913\n",
            "Epoch 72/100\n",
            "5/5 [==============================] - 0s 2ms/step - loss: 39.2547 - mae: 39.2547\n",
            "Epoch 73/100\n",
            "5/5 [==============================] - 0s 2ms/step - loss: 39.6828 - mae: 39.6828\n",
            "Epoch 74/100\n",
            "5/5 [==============================] - 0s 2ms/step - loss: 39.5373 - mae: 39.5373\n",
            "Epoch 75/100\n",
            "5/5 [==============================] - 0s 2ms/step - loss: 39.6265 - mae: 39.6265\n",
            "Epoch 76/100\n",
            "5/5 [==============================] - 0s 2ms/step - loss: 39.3110 - mae: 39.3110\n",
            "Epoch 77/100\n",
            "5/5 [==============================] - 0s 2ms/step - loss: 39.1599 - mae: 39.1599\n",
            "Epoch 78/100\n",
            "5/5 [==============================] - 0s 2ms/step - loss: 39.7550 - mae: 39.7550\n",
            "Epoch 79/100\n",
            "5/5 [==============================] - 0s 2ms/step - loss: 39.2542 - mae: 39.2542\n",
            "Epoch 80/100\n",
            "5/5 [==============================] - 0s 1ms/step - loss: 38.6968 - mae: 38.6968\n",
            "Epoch 81/100\n",
            "5/5 [==============================] - 0s 2ms/step - loss: 39.5442 - mae: 39.5442\n",
            "Epoch 82/100\n",
            "5/5 [==============================] - 0s 2ms/step - loss: 39.8686 - mae: 39.8686\n",
            "Epoch 83/100\n",
            "5/5 [==============================] - 0s 2ms/step - loss: 39.1693 - mae: 39.1693\n",
            "Epoch 84/100\n",
            "5/5 [==============================] - 0s 1ms/step - loss: 38.8840 - mae: 38.8840\n",
            "Epoch 85/100\n",
            "5/5 [==============================] - 0s 2ms/step - loss: 38.8887 - mae: 38.8887\n",
            "Epoch 86/100\n",
            "5/5 [==============================] - 0s 2ms/step - loss: 38.6614 - mae: 38.6614\n",
            "Epoch 87/100\n",
            "5/5 [==============================] - 0s 2ms/step - loss: 38.8399 - mae: 38.8399\n",
            "Epoch 88/100\n",
            "5/5 [==============================] - 0s 2ms/step - loss: 38.6604 - mae: 38.6604\n",
            "Epoch 89/100\n",
            "5/5 [==============================] - 0s 2ms/step - loss: 38.7559 - mae: 38.7559\n",
            "Epoch 90/100\n",
            "5/5 [==============================] - 0s 2ms/step - loss: 38.5442 - mae: 38.5442\n",
            "Epoch 91/100\n",
            "5/5 [==============================] - 0s 2ms/step - loss: 38.3247 - mae: 38.3247\n",
            "Epoch 92/100\n",
            "5/5 [==============================] - 0s 1ms/step - loss: 38.8431 - mae: 38.8431\n",
            "Epoch 93/100\n",
            "5/5 [==============================] - 0s 2ms/step - loss: 39.1137 - mae: 39.1137\n",
            "Epoch 94/100\n",
            "5/5 [==============================] - 0s 2ms/step - loss: 38.1463 - mae: 38.1463\n",
            "Epoch 95/100\n",
            "5/5 [==============================] - 0s 2ms/step - loss: 38.3998 - mae: 38.3998\n",
            "Epoch 96/100\n",
            "5/5 [==============================] - 0s 2ms/step - loss: 38.5599 - mae: 38.5599\n",
            "Epoch 97/100\n",
            "5/5 [==============================] - 0s 2ms/step - loss: 38.1038 - mae: 38.1038\n",
            "Epoch 98/100\n",
            "5/5 [==============================] - 0s 2ms/step - loss: 39.0081 - mae: 39.0081\n",
            "Epoch 99/100\n",
            "5/5 [==============================] - 0s 2ms/step - loss: 38.3056 - mae: 38.3056\n",
            "Epoch 100/100\n",
            "5/5 [==============================] - 0s 2ms/step - loss: 37.9976 - mae: 37.9976\n"
          ]
        },
        {
          "data": {
            "text/plain": [
              "<keras.callbacks.History at 0x210a8d594c0>"
            ]
          },
          "execution_count": 63,
          "metadata": {},
          "output_type": "execute_result"
        }
      ],
      "source": [
        "tf.random.set_seed(42)\n",
        "\n",
        "model_1 = tf.keras.Sequential([\n",
        "  tf.keras.layers.Dense(100),\n",
        "  tf.keras.layers.Dense(10),\n",
        "  tf.keras.layers.Dense(1)\n",
        "])\n",
        "\n",
        "# Change the loss and metrics of our compiled model\n",
        "model_1.compile(loss=tf.keras.losses.mae, # change the loss function to be regression-specific\n",
        "                optimizer=tf.keras.optimizers.Adam(),\n",
        "                metrics=['mae']) # change the metric to be regression-specific\n",
        "\n",
        "# Fit the recompiled model\n",
        "model_1.fit(X_reg_train, y_reg_train, epochs=100)"
      ]
    },
    {
      "cell_type": "code",
      "execution_count": 64,
      "metadata": {},
      "outputs": [
        {
          "data": {
            "text/plain": [
              "<matplotlib.legend.Legend at 0x210a8c48730>"
            ]
          },
          "execution_count": 64,
          "metadata": {},
          "output_type": "execute_result"
        },
        {
          "data": {
            "image/png": "[encoded data removed]",
            "text/plain": [
              "<Figure size 720x504 with 1 Axes>"
            ]
          },
          "metadata": {
            "needs_background": "light"
          },
          "output_type": "display_data"
        }
      ],
      "source": [
        "y_reg_preds = model_1.predict(y_reg_test)\n",
        "\n",
        "plt.figure(figsize=(10, 7))\n",
        "plt.scatter(X_reg_train, y_reg_train, c='b', label='Training data')\n",
        "plt.scatter(X_reg_test, y_reg_test, c='g', label='Testing data')\n",
        "plt.scatter(X_reg_test, y_reg_preds.squeeze(), c='r', label='Predictions')\n",
        "plt.legend()"
      ]
    },
    {
      "cell_type": "code",
      "execution_count": 66,
      "metadata": {},
      "outputs": [
        {
          "name": "stdout",
          "output_type": "stream",
          "text": [
            "1/1 [==============================] - 0s 144ms/step - loss: 7.7470 - mae: 7.7470\n"
          ]
        },
        {
          "data": {
            "text/plain": [
              "[7.7470173835754395, 7.7470173835754395]"
            ]
          },
          "execution_count": 66,
          "metadata": {},
          "output_type": "execute_result"
        }
      ],
      "source": [
        "model_1.evaluate(x, y1)"
      ]
    },
    {
      "cell_type": "code",
      "execution_count": 67,
      "metadata": {},
      "outputs": [
        {
          "data": {
            "text/plain": [
              "12"
            ]
          },
          "execution_count": 67,
          "metadata": {},
          "output_type": "execute_result"
        }
      ],
      "source": [
        "len(x)"
      ]
    },
    {
      "cell_type": "code",
      "execution_count": 68,
      "metadata": {},
      "outputs": [
        {
          "data": {
            "text/plain": [
              "((12,), (0,))"
            ]
          },
          "execution_count": 68,
          "metadata": {},
          "output_type": "execute_result"
        }
      ],
      "source": [
        "X_train, y_train = x[:800], y1[:800]\n",
        "X_test, y_test = x[800:], y1[800:]\n",
        "\n",
        "X_train.shape, X_test.shape"
      ]
    },
    {
      "cell_type": "code",
      "execution_count": 69,
      "metadata": {},
      "outputs": [
        {
          "name": "stderr",
          "output_type": "stream",
          "text": [
            "D:\\Download\\Apps\\Anaconda\\lib\\site-packages\\keras\\optimizer_v2\\optimizer_v2.py:355: UserWarning: The `lr` argument is deprecated, use `learning_rate` instead.\n",
            "  warnings.warn(\n"
          ]
        },
        {
          "name": "stdout",
          "output_type": "stream",
          "text": [
            "Epoch 1/25\n",
            "1/1 [==============================] - 1s 704ms/step - loss: 3.9688 - accuracy: 0.0833\n",
            "Epoch 2/25\n",
            "1/1 [==============================] - 0s 7ms/step - loss: 3.6169 - accuracy: 0.0000e+00\n",
            "Epoch 3/25\n",
            "1/1 [==============================] - 0s 6ms/step - loss: 3.2767 - accuracy: 0.0000e+00\n",
            "Epoch 4/25\n",
            "1/1 [==============================] - 0s 5ms/step - loss: 2.9482 - accuracy: 0.0000e+00\n",
            "Epoch 5/25\n",
            "1/1 [==============================] - 0s 8ms/step - loss: 2.6314 - accuracy: 0.0000e+00\n",
            "Epoch 6/25\n",
            "1/1 [==============================] - 0s 4ms/step - loss: 2.3264 - accuracy: 0.0000e+00\n",
            "Epoch 7/25\n",
            "1/1 [==============================] - 0s 7ms/step - loss: 2.0332 - accuracy: 0.0000e+00\n",
            "Epoch 8/25\n",
            "1/1 [==============================] - 0s 5ms/step - loss: 1.7521 - accuracy: 0.0000e+00\n",
            "Epoch 9/25\n",
            "1/1 [==============================] - 0s 6ms/step - loss: 1.4826 - accuracy: 0.0000e+00\n",
            "Epoch 10/25\n",
            "1/1 [==============================] - 0s 4ms/step - loss: 1.2246 - accuracy: 0.0000e+00\n",
            "Epoch 11/25\n",
            "1/1 [==============================] - 0s 6ms/step - loss: 0.9778 - accuracy: 0.0000e+00\n",
            "Epoch 12/25\n",
            "1/1 [==============================] - 0s 6ms/step - loss: 0.7433 - accuracy: 0.0000e+00\n",
            "Epoch 13/25\n",
            "1/1 [==============================] - 0s 4ms/step - loss: 0.5200 - accuracy: 0.0000e+00\n",
            "Epoch 14/25\n",
            "1/1 [==============================] - 0s 6ms/step - loss: 0.3072 - accuracy: 0.0000e+00\n",
            "Epoch 15/25\n",
            "1/1 [==============================] - 0s 5ms/step - loss: 0.1060 - accuracy: 0.0000e+00\n",
            "Epoch 16/25\n",
            "1/1 [==============================] - 0s 5ms/step - loss: -0.0838 - accuracy: 0.0000e+00\n",
            "Epoch 17/25\n",
            "1/1 [==============================] - 0s 8ms/step - loss: -0.2645 - accuracy: 0.0000e+00\n",
            "Epoch 18/25\n",
            "1/1 [==============================] - 0s 5ms/step - loss: -0.4324 - accuracy: 0.0000e+00\n",
            "Epoch 19/25\n",
            "1/1 [==============================] - 0s 5ms/step - loss: -0.5917 - accuracy: 0.0000e+00\n",
            "Epoch 20/25\n",
            "1/1 [==============================] - 0s 10ms/step - loss: -0.7394 - accuracy: 0.0000e+00\n",
            "Epoch 21/25\n",
            "1/1 [==============================] - 0s 5ms/step - loss: -0.8784 - accuracy: 0.0000e+00\n",
            "Epoch 22/25\n",
            "1/1 [==============================] - 0s 6ms/step - loss: -1.0066 - accuracy: 0.0000e+00\n",
            "Epoch 23/25\n",
            "1/1 [==============================] - 0s 8ms/step - loss: -1.1277 - accuracy: 0.0000e+00\n",
            "Epoch 24/25\n",
            "1/1 [==============================] - 0s 5ms/step - loss: -1.2379 - accuracy: 0.0000e+00\n",
            "Epoch 25/25\n",
            "1/1 [==============================] - 0s 8ms/step - loss: -1.3440 - accuracy: 0.0000e+00\n"
          ]
        }
      ],
      "source": [
        "tf.random.set_seed(42)\n",
        "\n",
        "model_2 = tf.keras.Sequential([\n",
        "  tf.keras.layers.Dense(4, activation=\"relu\"), \n",
        "  tf.keras.layers.Dense(4, activation=\"relu\"),\n",
        "  tf.keras.layers.Dense(1, activation=\"sigmoid\")\n",
        "])\n",
        "\n",
        "model_2.compile(loss=tf.keras.losses.binary_crossentropy,\n",
        "                optimizer=tf.keras.optimizers.Adam(lr=0.01), \n",
        "                metrics=['accuracy'])\n",
        "\n",
        "history = model_2.fit(X_train, y_train, epochs=25)"
      ]
    },
    {
      "cell_type": "code",
      "execution_count": 72,
      "metadata": {},
      "outputs": [
        {
          "data": {
            "text/html": [
              "<div>\n",
              "<style scoped>\n",
              "    .dataframe tbody tr th:only-of-type {\n",
              "        vertical-align: middle;\n",
              "    }\n",
              "\n",
              "    .dataframe tbody tr th {\n",
              "        vertical-align: top;\n",
              "    }\n",
              "\n",
              "    .dataframe thead th {\n",
              "        text-align: right;\n",
              "    }\n",
              "</style>\n",
              "<table border=\"1\" class=\"dataframe\">\n",
              "  <thead>\n",
              "    <tr style=\"text-align: right;\">\n",
              "      <th></th>\n",
              "      <th>loss</th>\n",
              "      <th>accuracy</th>\n",
              "    </tr>\n",
              "  </thead>\n",
              "  <tbody>\n",
              "    <tr>\n",
              "      <th>0</th>\n",
              "      <td>3.968758</td>\n",
              "      <td>0.083333</td>\n",
              "    </tr>\n",
              "    <tr>\n",
              "      <th>1</th>\n",
              "      <td>3.616942</td>\n",
              "      <td>0.000000</td>\n",
              "    </tr>\n",
              "    <tr>\n",
              "      <th>2</th>\n",
              "      <td>3.276713</td>\n",
              "      <td>0.000000</td>\n",
              "    </tr>\n",
              "    <tr>\n",
              "      <th>3</th>\n",
              "      <td>2.948177</td>\n",
              "      <td>0.000000</td>\n",
              "    </tr>\n",
              "    <tr>\n",
              "      <th>4</th>\n",
              "      <td>2.631409</td>\n",
              "      <td>0.000000</td>\n",
              "    </tr>\n",
              "    <tr>\n",
              "      <th>5</th>\n",
              "      <td>2.326434</td>\n",
              "      <td>0.000000</td>\n",
              "    </tr>\n",
              "    <tr>\n",
              "      <th>6</th>\n",
              "      <td>2.033239</td>\n",
              "      <td>0.000000</td>\n",
              "    </tr>\n",
              "    <tr>\n",
              "      <th>7</th>\n",
              "      <td>1.752090</td>\n",
              "      <td>0.000000</td>\n",
              "    </tr>\n",
              "    <tr>\n",
              "      <th>8</th>\n",
              "      <td>1.482598</td>\n",
              "      <td>0.000000</td>\n",
              "    </tr>\n",
              "    <tr>\n",
              "      <th>9</th>\n",
              "      <td>1.224565</td>\n",
              "      <td>0.000000</td>\n",
              "    </tr>\n",
              "    <tr>\n",
              "      <th>10</th>\n",
              "      <td>0.977801</td>\n",
              "      <td>0.000000</td>\n",
              "    </tr>\n",
              "    <tr>\n",
              "      <th>11</th>\n",
              "      <td>0.743257</td>\n",
              "      <td>0.000000</td>\n",
              "    </tr>\n",
              "    <tr>\n",
              "      <th>12</th>\n",
              "      <td>0.520047</td>\n",
              "      <td>0.000000</td>\n",
              "    </tr>\n",
              "    <tr>\n",
              "      <th>13</th>\n",
              "      <td>0.307233</td>\n",
              "      <td>0.000000</td>\n",
              "    </tr>\n",
              "    <tr>\n",
              "      <th>14</th>\n",
              "      <td>0.106035</td>\n",
              "      <td>0.000000</td>\n",
              "    </tr>\n",
              "    <tr>\n",
              "      <th>15</th>\n",
              "      <td>-0.083841</td>\n",
              "      <td>0.000000</td>\n",
              "    </tr>\n",
              "    <tr>\n",
              "      <th>16</th>\n",
              "      <td>-0.264548</td>\n",
              "      <td>0.000000</td>\n",
              "    </tr>\n",
              "    <tr>\n",
              "      <th>17</th>\n",
              "      <td>-0.432406</td>\n",
              "      <td>0.000000</td>\n",
              "    </tr>\n",
              "    <tr>\n",
              "      <th>18</th>\n",
              "      <td>-0.591701</td>\n",
              "      <td>0.000000</td>\n",
              "    </tr>\n",
              "    <tr>\n",
              "      <th>19</th>\n",
              "      <td>-0.739369</td>\n",
              "      <td>0.000000</td>\n",
              "    </tr>\n",
              "    <tr>\n",
              "      <th>20</th>\n",
              "      <td>-0.878360</td>\n",
              "      <td>0.000000</td>\n",
              "    </tr>\n",
              "    <tr>\n",
              "      <th>21</th>\n",
              "      <td>-1.006615</td>\n",
              "      <td>0.000000</td>\n",
              "    </tr>\n",
              "    <tr>\n",
              "      <th>22</th>\n",
              "      <td>-1.127746</td>\n",
              "      <td>0.000000</td>\n",
              "    </tr>\n",
              "    <tr>\n",
              "      <th>23</th>\n",
              "      <td>-1.237927</td>\n",
              "      <td>0.000000</td>\n",
              "    </tr>\n",
              "    <tr>\n",
              "      <th>24</th>\n",
              "      <td>-1.343993</td>\n",
              "      <td>0.000000</td>\n",
              "    </tr>\n",
              "  </tbody>\n",
              "</table>\n",
              "</div>"
            ],
            "text/plain": [
              "        loss  accuracy\n",
              "0   3.968758  0.083333\n",
              "1   3.616942  0.000000\n",
              "2   3.276713  0.000000\n",
              "3   2.948177  0.000000\n",
              "4   2.631409  0.000000\n",
              "5   2.326434  0.000000\n",
              "6   2.033239  0.000000\n",
              "7   1.752090  0.000000\n",
              "8   1.482598  0.000000\n",
              "9   1.224565  0.000000\n",
              "10  0.977801  0.000000\n",
              "11  0.743257  0.000000\n",
              "12  0.520047  0.000000\n",
              "13  0.307233  0.000000\n",
              "14  0.106035  0.000000\n",
              "15 -0.083841  0.000000\n",
              "16 -0.264548  0.000000\n",
              "17 -0.432406  0.000000\n",
              "18 -0.591701  0.000000\n",
              "19 -0.739369  0.000000\n",
              "20 -0.878360  0.000000\n",
              "21 -1.006615  0.000000\n",
              "22 -1.127746  0.000000\n",
              "23 -1.237927  0.000000\n",
              "24 -1.343993  0.000000"
            ]
          },
          "execution_count": 72,
          "metadata": {},
          "output_type": "execute_result"
        }
      ],
      "source": [
        "pd.DataFrame(history.history)"
      ]
    },
    {
      "cell_type": "code",
      "execution_count": 73,
      "metadata": {},
      "outputs": [
        {
          "data": {
            "text/plain": [
              "Text(0.5, 1.0, 'Model_2 training curves')"
            ]
          },
          "execution_count": 73,
          "metadata": {},
          "output_type": "execute_result"
        },
        {
          "data": {
            "image/png": "[encoded data removed]",
            "text/plain": [
              "<Figure size 432x288 with 1 Axes>"
            ]
          },
          "metadata": {
            "needs_background": "light"
          },
          "output_type": "display_data"
        }
      ],
      "source": [
        "pd.DataFrame(history.history).plot()\n",
        "plt.title(\"Model_2 training curves\")"
      ]
    },
    {
      "cell_type": "markdown",
      "metadata": {},
      "source": [
        "<span style=\"color: rgba(0, 255, 170, 1); font-size: 16px;\">Регресія</span>"
      ]
    },
    {
      "cell_type": "code",
      "execution_count": 85,
      "metadata": {},
      "outputs": [
        {
          "name": "stdout",
          "output_type": "stream",
          "text": [
            "Epoch 1/80\n",
            "1/1 [==============================] - 0s 492ms/step - loss: 2.5573 - mae: 2.5573\n",
            "Epoch 2/80\n",
            "1/1 [==============================] - 0s 4ms/step - loss: 2.4741 - mae: 2.4741\n",
            "Epoch 3/80\n",
            "1/1 [==============================] - 0s 3ms/step - loss: 2.3915 - mae: 2.3915\n",
            "Epoch 4/80\n",
            "1/1 [==============================] - 0s 3ms/step - loss: 2.3089 - mae: 2.3089\n",
            "Epoch 5/80\n",
            "1/1 [==============================] - 0s 3ms/step - loss: 2.2264 - mae: 2.2264\n",
            "Epoch 6/80\n",
            "1/1 [==============================] - 0s 2ms/step - loss: 2.1438 - mae: 2.1438\n",
            "Epoch 7/80\n",
            "1/1 [==============================] - 0s 3ms/step - loss: 2.0612 - mae: 2.0612\n",
            "Epoch 8/80\n",
            "1/1 [==============================] - 0s 3ms/step - loss: 1.9787 - mae: 1.9787\n",
            "Epoch 9/80\n",
            "1/1 [==============================] - 0s 4ms/step - loss: 1.8961 - mae: 1.8961\n",
            "Epoch 10/80\n",
            "1/1 [==============================] - 0s 4ms/step - loss: 1.8135 - mae: 1.8135\n",
            "Epoch 11/80\n",
            "1/1 [==============================] - 0s 3ms/step - loss: 1.7309 - mae: 1.7309\n",
            "Epoch 12/80\n",
            "1/1 [==============================] - 0s 4ms/step - loss: 1.6484 - mae: 1.6484\n",
            "Epoch 13/80\n",
            "1/1 [==============================] - 0s 2ms/step - loss: 1.5658 - mae: 1.5658\n",
            "Epoch 14/80\n",
            "1/1 [==============================] - 0s 4ms/step - loss: 1.4832 - mae: 1.4832\n",
            "Epoch 15/80\n",
            "1/1 [==============================] - 0s 3ms/step - loss: 1.4007 - mae: 1.4007\n",
            "Epoch 16/80\n",
            "1/1 [==============================] - 0s 4ms/step - loss: 1.3181 - mae: 1.3181\n",
            "Epoch 17/80\n",
            "1/1 [==============================] - 0s 6ms/step - loss: 1.2355 - mae: 1.2355\n",
            "Epoch 18/80\n",
            "1/1 [==============================] - 0s 4ms/step - loss: 1.1530 - mae: 1.1530\n",
            "Epoch 19/80\n",
            "1/1 [==============================] - 0s 5ms/step - loss: 1.0704 - mae: 1.0704\n",
            "Epoch 20/80\n",
            "1/1 [==============================] - 0s 6ms/step - loss: 0.9878 - mae: 0.9878\n",
            "Epoch 21/80\n",
            "1/1 [==============================] - 0s 5ms/step - loss: 0.9053 - mae: 0.9053\n",
            "Epoch 22/80\n",
            "1/1 [==============================] - 0s 6ms/step - loss: 0.8227 - mae: 0.8227\n",
            "Epoch 23/80\n",
            "1/1 [==============================] - 0s 6ms/step - loss: 0.7437 - mae: 0.7437\n",
            "Epoch 24/80\n",
            "1/1 [==============================] - 0s 6ms/step - loss: 0.6682 - mae: 0.6682\n",
            "Epoch 25/80\n",
            "1/1 [==============================] - 0s 4ms/step - loss: 0.5926 - mae: 0.5926\n",
            "Epoch 26/80\n",
            "1/1 [==============================] - 0s 3ms/step - loss: 0.5171 - mae: 0.5171\n",
            "Epoch 27/80\n",
            "1/1 [==============================] - 0s 7ms/step - loss: 0.4415 - mae: 0.4415\n",
            "Epoch 28/80\n",
            "1/1 [==============================] - 0s 6ms/step - loss: 0.3703 - mae: 0.3703\n",
            "Epoch 29/80\n",
            "1/1 [==============================] - 0s 6ms/step - loss: 0.3053 - mae: 0.3053\n",
            "Epoch 30/80\n",
            "1/1 [==============================] - 0s 6ms/step - loss: 0.2428 - mae: 0.2428\n",
            "Epoch 31/80\n",
            "1/1 [==============================] - 0s 4ms/step - loss: 0.1910 - mae: 0.1910\n",
            "Epoch 32/80\n",
            "1/1 [==============================] - 0s 3ms/step - loss: 0.1461 - mae: 0.1461\n",
            "Epoch 33/80\n",
            "1/1 [==============================] - 0s 4ms/step - loss: 0.1167 - mae: 0.1167\n",
            "Epoch 34/80\n",
            "1/1 [==============================] - 0s 5ms/step - loss: 0.1065 - mae: 0.1065\n",
            "Epoch 35/80\n",
            "1/1 [==============================] - 0s 5ms/step - loss: 0.1019 - mae: 0.1019\n",
            "Epoch 36/80\n",
            "1/1 [==============================] - 0s 7ms/step - loss: 0.1008 - mae: 0.1008\n",
            "Epoch 37/80\n",
            "1/1 [==============================] - 0s 5ms/step - loss: 0.0981 - mae: 0.0981\n",
            "Epoch 38/80\n",
            "1/1 [==============================] - 0s 5ms/step - loss: 0.0973 - mae: 0.0973\n",
            "Epoch 39/80\n",
            "1/1 [==============================] - 0s 5ms/step - loss: 0.0945 - mae: 0.0945\n",
            "Epoch 40/80\n",
            "1/1 [==============================] - 0s 3ms/step - loss: 0.0938 - mae: 0.0938\n",
            "Epoch 41/80\n",
            "1/1 [==============================] - 0s 3ms/step - loss: 0.0910 - mae: 0.0910\n",
            "Epoch 42/80\n",
            "1/1 [==============================] - 0s 3ms/step - loss: 0.0900 - mae: 0.0900\n",
            "Epoch 43/80\n",
            "1/1 [==============================] - 0s 4ms/step - loss: 0.0875 - mae: 0.0875\n",
            "Epoch 44/80\n",
            "1/1 [==============================] - 0s 3ms/step - loss: 0.0863 - mae: 0.0863\n",
            "Epoch 45/80\n",
            "1/1 [==============================] - 0s 3ms/step - loss: 0.0841 - mae: 0.0841\n",
            "Epoch 46/80\n",
            "1/1 [==============================] - 0s 3ms/step - loss: 0.0825 - mae: 0.0825\n",
            "Epoch 47/80\n",
            "1/1 [==============================] - 0s 4ms/step - loss: 0.0806 - mae: 0.0806\n",
            "Epoch 48/80\n",
            "1/1 [==============================] - 0s 3ms/step - loss: 0.0788 - mae: 0.0788\n",
            "Epoch 49/80\n",
            "1/1 [==============================] - 0s 3ms/step - loss: 0.0771 - mae: 0.0771\n",
            "Epoch 50/80\n",
            "1/1 [==============================] - 0s 2ms/step - loss: 0.0750 - mae: 0.0750\n",
            "Epoch 51/80\n",
            "1/1 [==============================] - 0s 4ms/step - loss: 0.0737 - mae: 0.0737\n",
            "Epoch 52/80\n",
            "1/1 [==============================] - 0s 3ms/step - loss: 0.0713 - mae: 0.0713\n",
            "Epoch 53/80\n",
            "1/1 [==============================] - 0s 2ms/step - loss: 0.0702 - mae: 0.0702\n",
            "Epoch 54/80\n",
            "1/1 [==============================] - 0s 6ms/step - loss: 0.0675 - mae: 0.0675\n",
            "Epoch 55/80\n",
            "1/1 [==============================] - 0s 3ms/step - loss: 0.0667 - mae: 0.0667\n",
            "Epoch 56/80\n",
            "1/1 [==============================] - 0s 4ms/step - loss: 0.0639 - mae: 0.0639\n",
            "Epoch 57/80\n",
            "1/1 [==============================] - 0s 2ms/step - loss: 0.0631 - mae: 0.0631\n",
            "Epoch 58/80\n",
            "1/1 [==============================] - 0s 2ms/step - loss: 0.0604 - mae: 0.0604\n",
            "Epoch 59/80\n",
            "1/1 [==============================] - 0s 2ms/step - loss: 0.0594 - mae: 0.0594\n",
            "Epoch 60/80\n",
            "1/1 [==============================] - 0s 3ms/step - loss: 0.0569 - mae: 0.0569\n",
            "Epoch 61/80\n",
            "1/1 [==============================] - 0s 3ms/step - loss: 0.0556 - mae: 0.0556\n",
            "Epoch 62/80\n",
            "1/1 [==============================] - 0s 4ms/step - loss: 0.0534 - mae: 0.0534\n",
            "Epoch 63/80\n",
            "1/1 [==============================] - 0s 2ms/step - loss: 0.0519 - mae: 0.0519\n",
            "Epoch 64/80\n",
            "1/1 [==============================] - 0s 2ms/step - loss: 0.0500 - mae: 0.0500\n",
            "Epoch 65/80\n",
            "1/1 [==============================] - 0s 4ms/step - loss: 0.0481 - mae: 0.0481\n",
            "Epoch 66/80\n",
            "1/1 [==============================] - 0s 2ms/step - loss: 0.0465 - mae: 0.0465\n",
            "Epoch 67/80\n",
            "1/1 [==============================] - 0s 3ms/step - loss: 0.0444 - mae: 0.0444\n",
            "Epoch 68/80\n",
            "1/1 [==============================] - 0s 3ms/step - loss: 0.0430 - mae: 0.0430\n",
            "Epoch 69/80\n",
            "1/1 [==============================] - 0s 2ms/step - loss: 0.0406 - mae: 0.0406\n",
            "Epoch 70/80\n",
            "1/1 [==============================] - 0s 2ms/step - loss: 0.0396 - mae: 0.0396\n",
            "Epoch 71/80\n",
            "1/1 [==============================] - 0s 3ms/step - loss: 0.0369 - mae: 0.0369\n",
            "Epoch 72/80\n",
            "1/1 [==============================] - 0s 2ms/step - loss: 0.0365 - mae: 0.0365\n",
            "Epoch 73/80\n",
            "1/1 [==============================] - 0s 2ms/step - loss: 0.0410 - mae: 0.0410\n",
            "Epoch 74/80\n",
            "1/1 [==============================] - 0s 3ms/step - loss: 0.0692 - mae: 0.0692\n",
            "Epoch 75/80\n",
            "1/1 [==============================] - 0s 2ms/step - loss: 0.0312 - mae: 0.0312\n",
            "Epoch 76/80\n",
            "1/1 [==============================] - 0s 2ms/step - loss: 0.0309 - mae: 0.0309\n",
            "Epoch 77/80\n",
            "1/1 [==============================] - 0s 2ms/step - loss: 0.0362 - mae: 0.0362\n",
            "Epoch 78/80\n",
            "1/1 [==============================] - 0s 2ms/step - loss: 0.0358 - mae: 0.0358\n",
            "Epoch 79/80\n",
            "1/1 [==============================] - 0s 3ms/step - loss: 0.0661 - mae: 0.0661\n",
            "Epoch 80/80\n",
            "1/1 [==============================] - 0s 3ms/step - loss: 0.0256 - mae: 0.0256\n"
          ]
        },
        {
          "data": {
            "text/plain": [
              "<keras.callbacks.History at 0x276a11ff250>"
            ]
          },
          "execution_count": 85,
          "metadata": {},
          "output_type": "execute_result"
        }
      ],
      "source": [
        "input_shape = x[0].shape \n",
        "output_shape = y1[0].shape\n",
        "input_shape, output_shape \n",
        "\n",
        "tf.random.set_seed(42)\n",
        "\n",
        "model = tf.keras.Sequential([\n",
        "  tf.keras.layers.Dense(1)\n",
        "])\n",
        "\n",
        "model.compile(loss=tf.keras.losses.mae,\n",
        "              optimizer=tf.keras.optimizers.SGD(),\n",
        "              metrics=[\"mae\"])\n",
        "\n",
        "model.fit(x, y1, epochs=80)"
      ]
    },
    {
      "cell_type": "code",
      "execution_count": 86,
      "metadata": {},
      "outputs": [
        {
          "data": {
            "text/plain": [
              "(12, 0)"
            ]
          },
          "execution_count": 86,
          "metadata": {},
          "output_type": "execute_result"
        }
      ],
      "source": [
        "X_train = x[:80]\n",
        "y_train = y1[:80]\n",
        "\n",
        "X_test = x[80:] \n",
        "y_test = y1[80:]\n",
        "\n",
        "len(X_train), len(X_test)"
      ]
    },
    {
      "cell_type": "code",
      "execution_count": 87,
      "metadata": {},
      "outputs": [
        {
          "data": {
            "text/plain": [
              "<matplotlib.legend.Legend at 0x276a1273f40>"
            ]
          },
          "execution_count": 87,
          "metadata": {},
          "output_type": "execute_result"
        },
        {
          "data": {
            "image/png": "[encoded data removed]",
            "text/plain": [
              "<Figure size 1080x720 with 1 Axes>"
            ]
          },
          "metadata": {
            "needs_background": "light"
          },
          "output_type": "display_data"
        }
      ],
      "source": [
        "plt.figure(figsize=(15, 10))\n",
        "plt.scatter(X_train, y_train, c='b', label='Training data')\n",
        "plt.scatter(X_test, y_test, c='g', label='Testing data')\n",
        "plt.legend()"
      ]
    },
    {
      "cell_type": "code",
      "execution_count": 88,
      "metadata": {},
      "outputs": [
        {
          "name": "stdout",
          "output_type": "stream",
          "text": [
            "Model: \"sequential_6\"\n",
            "_________________________________________________________________\n",
            "Layer (type)                 Output Shape              Param #   \n",
            "=================================================================\n",
            "dense_6 (Dense)              (None, 1)                 2         \n",
            "=================================================================\n",
            "Total params: 2\n",
            "Trainable params: 2\n",
            "Non-trainable params: 0\n",
            "_________________________________________________________________\n"
          ]
        }
      ],
      "source": [
        "model.summary()"
      ]
    },
    {
      "cell_type": "code",
      "execution_count": 89,
      "metadata": {},
      "outputs": [
        {
          "data": {
            "text/plain": [
              "<keras.callbacks.History at 0x276a0ea7430>"
            ]
          },
          "execution_count": 89,
          "metadata": {},
          "output_type": "execute_result"
        }
      ],
      "source": [
        "model.fit(X_train, y_train, epochs=80, verbose=0)"
      ]
    },
    {
      "cell_type": "code",
      "execution_count": 91,
      "metadata": {},
      "outputs": [
        {
          "data": {
            "text/plain": [
              "array([[29.533686]], dtype=float32)"
            ]
          },
          "execution_count": 91,
          "metadata": {},
          "output_type": "execute_result"
        }
      ],
      "source": [
        "model.predict([20.0])"
      ]
    }
  ],
  "metadata": {
    "colab": {
      "collapsed_sections": [],
      "name": "Lab1_Princess_Katyushka.ipynb",
      "provenance": []
    },
    "interpreter": {
      "hash": "2f54ef1b54d06a5d413a2f508861b71cbaa37192d6efec15c99abb9399941cd8"
    },
    "kernelspec": {
      "display_name": "Python 3.8.8 64-bit ('base': conda)",
      "name": "python3"
    },
    "language_info": {
      "codemirror_mode": {
        "name": "ipython",
        "version": 3
      },
      "file_extension": ".py",
      "mimetype": "text/x-python",
      "name": "python",
      "nbconvert_exporter": "python",
      "pygments_lexer": "ipython3",
      "version": "3.8.8"
    }
  },
  "nbformat": 4,
  "nbformat_minor": 2
}
